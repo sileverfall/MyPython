{
 "cells": [
  {
   "cell_type": "code",
   "execution_count": 1,
   "metadata": {},
   "outputs": [
    {
     "name": "stdout",
     "output_type": "stream",
     "text": [
      "Collecting splinter\n",
      "  Downloading splinter-0.7.5.tar.gz\n",
      "Collecting selenium>=2.53.6 (from splinter)\n",
      "  Downloading selenium-3.4.3-py2.py3-none-any.whl (931kB)\n",
      "\u001b[K    100% |████████████████████████████████| 942kB 1.4MB/s eta 0:00:01\n",
      "\u001b[?25hInstalling collected packages: selenium, splinter\n",
      "  Running setup.py install for splinter ... \u001b[?25ldone\n",
      "\u001b[?25hSuccessfully installed selenium-3.4.3 splinter-0.7.5\n"
     ]
    }
   ],
   "source": [
    "!pip install splinter"
   ]
  },
  {
   "cell_type": "code",
   "execution_count": 2,
   "metadata": {
    "collapsed": true
   },
   "outputs": [],
   "source": [
    "# Go to  https://chromedriver.storage.googleapis.com/index.html?path=2.30/\n",
    "# Download linux_64\n",
    "# Extract, \n",
    "# sudo cp chromedriver /usr/local/bin/"
   ]
  },
  {
   "cell_type": "code",
   "execution_count": 3,
   "metadata": {
    "collapsed": true
   },
   "outputs": [],
   "source": [
    "import splinter"
   ]
  },
  {
   "cell_type": "code",
   "execution_count": 8,
   "metadata": {
    "collapsed": true
   },
   "outputs": [],
   "source": [
    "browser = splinter.Browser(driver_name='chrome')"
   ]
  },
  {
   "cell_type": "code",
   "execution_count": 9,
   "metadata": {
    "collapsed": true
   },
   "outputs": [],
   "source": [
    "browser.visit('https://ianchenhq.com')"
   ]
  },
  {
   "cell_type": "code",
   "execution_count": null,
   "metadata": {
    "collapsed": true
   },
   "outputs": [],
   "source": []
  }
 ],
 "metadata": {
  "kernelspec": {
   "display_name": "Python 3",
   "language": "python",
   "name": "python3"
  },
  "language_info": {
   "codemirror_mode": {
    "name": "ipython",
    "version": 3
   },
   "file_extension": ".py",
   "mimetype": "text/x-python",
   "name": "python",
   "nbconvert_exporter": "python",
   "pygments_lexer": "ipython3",
   "version": "3.6.1"
  }
 },
 "nbformat": 4,
 "nbformat_minor": 2
}
