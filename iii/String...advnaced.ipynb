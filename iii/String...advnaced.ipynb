{
 "cells": [
  {
   "cell_type": "code",
   "execution_count": 1,
   "metadata": {},
   "outputs": [
    {
     "data": {
      "text/plain": [
       "'my name is Alisa'"
      ]
     },
     "execution_count": 1,
     "metadata": {},
     "output_type": "execute_result"
    }
   ],
   "source": [
    "\"my name is Alisa\""
   ]
  },
  {
   "cell_type": "code",
   "execution_count": 2,
   "metadata": {},
   "outputs": [
    {
     "data": {
      "text/plain": [
       "['my', 'name', 'is', 'Alisa']"
      ]
     },
     "execution_count": 2,
     "metadata": {},
     "output_type": "execute_result"
    }
   ],
   "source": [
    "\"my name is Alisa\".split()"
   ]
  },
  {
   "cell_type": "code",
   "execution_count": 3,
   "metadata": {},
   "outputs": [
    {
     "data": {
      "text/plain": [
       "'Alisa'"
      ]
     },
     "execution_count": 3,
     "metadata": {},
     "output_type": "execute_result"
    }
   ],
   "source": [
    "\"my name is Alisa\".split()[3]"
   ]
  },
  {
   "cell_type": "code",
   "execution_count": 4,
   "metadata": {},
   "outputs": [
    {
     "name": "stdout",
     "output_type": "stream",
     "text": [
      "my\n",
      "name\n",
      "is\n",
      "Alisa\n"
     ]
    }
   ],
   "source": [
    "for word in \"my name is Alisa\".split():\n",
    "    print(word)"
   ]
  },
  {
   "cell_type": "code",
   "execution_count": 5,
   "metadata": {},
   "outputs": [
    {
     "data": {
      "text/plain": [
       "['here we go', 'Alisa']"
      ]
     },
     "execution_count": 5,
     "metadata": {},
     "output_type": "execute_result"
    }
   ],
   "source": [
    "\"here we go,Alisa\".split(\",\")"
   ]
  },
  {
   "cell_type": "code",
   "execution_count": 6,
   "metadata": {},
   "outputs": [
    {
     "data": {
      "text/plain": [
       "[123, 'Cha cha', 'transformer']"
      ]
     },
     "execution_count": 6,
     "metadata": {},
     "output_type": "execute_result"
    }
   ],
   "source": [
    "[123,\"Cha cha\",\"transformer\"]"
   ]
  },
  {
   "cell_type": "code",
   "execution_count": 7,
   "metadata": {},
   "outputs": [
    {
     "data": {
      "text/plain": [
       "'123,Cha cha,transformer'"
      ]
     },
     "execution_count": 7,
     "metadata": {},
     "output_type": "execute_result"
    }
   ],
   "source": [
    "\",\".join([\"123\",\"Cha cha\",\"transformer\"])"
   ]
  },
  {
   "cell_type": "code",
   "execution_count": 8,
   "metadata": {},
   "outputs": [
    {
     "data": {
      "text/plain": [
       "'harry potter'"
      ]
     },
     "execution_count": 8,
     "metadata": {},
     "output_type": "execute_result"
    }
   ],
   "source": [
    "\"Harry potter\".lower()"
   ]
  },
  {
   "cell_type": "code",
   "execution_count": 9,
   "metadata": {},
   "outputs": [
    {
     "data": {
      "text/plain": [
       "'NICE'"
      ]
     },
     "execution_count": 9,
     "metadata": {},
     "output_type": "execute_result"
    }
   ],
   "source": [
    "\"nice\".upper()"
   ]
  },
  {
   "cell_type": "code",
   "execution_count": 10,
   "metadata": {},
   "outputs": [
    {
     "data": {
      "text/plain": [
       "'Harry Potter'"
      ]
     },
     "execution_count": 10,
     "metadata": {},
     "output_type": "execute_result"
    }
   ],
   "source": [
    "\"harry potter\".title()"
   ]
  },
  {
   "cell_type": "code",
   "execution_count": 11,
   "metadata": {},
   "outputs": [
    {
     "data": {
      "text/plain": [
       "'Taiwan is good'"
      ]
     },
     "execution_count": 11,
     "metadata": {},
     "output_type": "execute_result"
    }
   ],
   "source": [
    "\"Japan is good\".replace(\"Japan\",\"Taiwan\")"
   ]
  },
  {
   "cell_type": "code",
   "execution_count": 12,
   "metadata": {},
   "outputs": [
    {
     "data": {
      "text/plain": [
       "['※ 發信站: 批踢踢實業坊(ptt.cc), ', '223.139.18.149']"
      ]
     },
     "execution_count": 12,
     "metadata": {},
     "output_type": "execute_result"
    }
   ],
   "source": [
    "\"※ 發信站: 批踢踢實業坊(ptt.cc), 來自: 223.139.18.149\".split(\"來自: \")"
   ]
  },
  {
   "cell_type": "code",
   "execution_count": 13,
   "metadata": {},
   "outputs": [
    {
     "data": {
      "text/plain": [
       "'223.139.18.149'"
      ]
     },
     "execution_count": 13,
     "metadata": {},
     "output_type": "execute_result"
    }
   ],
   "source": [
    "\"※ 發信站: 批踢踢實業坊(ptt.cc), 來自: 223.139.18.149\".split(\"來自: \")[1]"
   ]
  },
  {
   "cell_type": "code",
   "execution_count": 14,
   "metadata": {},
   "outputs": [
    {
     "data": {
      "text/plain": [
       "'批踢踢實業坊(ptt.cc), 來自: 223.139.18.149'"
      ]
     },
     "execution_count": 14,
     "metadata": {},
     "output_type": "execute_result"
    }
   ],
   "source": [
    "\"※ 發信站: 批踢踢實業坊(ptt.cc), 來自: 223.139.18.149\".split(\"發信站: \")[1]"
   ]
  },
  {
   "cell_type": "code",
   "execution_count": 17,
   "metadata": {},
   "outputs": [
    {
     "data": {
      "text/plain": [
       "'批踢踢實業坊(ptt.cc)'"
      ]
     },
     "execution_count": 17,
     "metadata": {},
     "output_type": "execute_result"
    }
   ],
   "source": [
    "\"※ 發信站: 批踢踢實業坊(ptt.cc), 來自: 223.139.18.149\".split(\"發信站: \")[1].split(\", 來自\")[0]"
   ]
  },
  {
   "cell_type": "code",
   "execution_count": 21,
   "metadata": {
    "collapsed": true
   },
   "outputs": [],
   "source": [
    "f = open('./donald_trump.txt', 'w')"
   ]
  },
  {
   "cell_type": "code",
   "execution_count": 22,
   "metadata": {},
   "outputs": [
    {
     "data": {
      "text/plain": [
       "_io.TextIOWrapper"
      ]
     },
     "execution_count": 22,
     "metadata": {},
     "output_type": "execute_result"
    }
   ],
   "source": [
    "type(f)"
   ]
  },
  {
   "cell_type": "code",
   "execution_count": 23,
   "metadata": {},
   "outputs": [
    {
     "data": {
      "text/plain": [
       "24"
      ]
     },
     "execution_count": 23,
     "metadata": {},
     "output_type": "execute_result"
    }
   ],
   "source": [
    "f.write(\"Make America great again\")"
   ]
  },
  {
   "cell_type": "code",
   "execution_count": 24,
   "metadata": {
    "collapsed": true
   },
   "outputs": [],
   "source": [
    "f.close()"
   ]
  },
  {
   "cell_type": "code",
   "execution_count": 25,
   "metadata": {
    "collapsed": true
   },
   "outputs": [],
   "source": [
    "f = open('./donald_trump.txt', 'r')"
   ]
  },
  {
   "cell_type": "code",
   "execution_count": 26,
   "metadata": {},
   "outputs": [
    {
     "data": {
      "text/plain": [
       "<_io.TextIOWrapper name='./donald_trump.txt' mode='r' encoding='UTF-8'>"
      ]
     },
     "execution_count": 26,
     "metadata": {},
     "output_type": "execute_result"
    }
   ],
   "source": [
    "f"
   ]
  },
  {
   "cell_type": "code",
   "execution_count": 27,
   "metadata": {},
   "outputs": [
    {
     "name": "stdout",
     "output_type": "stream",
     "text": [
      "<_io.TextIOWrapper name='./donald_trump.txt' mode='r' encoding='UTF-8'>\n"
     ]
    }
   ],
   "source": [
    "print(f)"
   ]
  },
  {
   "cell_type": "code",
   "execution_count": 28,
   "metadata": {},
   "outputs": [
    {
     "name": "stdout",
     "output_type": "stream",
     "text": [
      "104.ipynb               Ptt_SoftJob.ipynb       pandas_ssd.csv\r\n",
      "Basic Python.ipynb      README.md               ssd.csv\r\n",
      "BigDataX_Exercise.ipynb String...advnaced.ipynb taobao.html\r\n",
      "Coolpc.ipynb            Yes123.ipynb\r\n",
      "MySelenium.ipynb        donald_trump.txt\r\n"
     ]
    }
   ],
   "source": [
    "!ls"
   ]
  },
  {
   "cell_type": "code",
   "execution_count": 29,
   "metadata": {},
   "outputs": [
    {
     "name": "stdout",
     "output_type": "stream",
     "text": [
      "/Users/Wan_Ning/Documents/Course/MyPython\r\n"
     ]
    }
   ],
   "source": [
    "!pwd"
   ]
  },
  {
   "cell_type": "code",
   "execution_count": 30,
   "metadata": {
    "collapsed": true
   },
   "outputs": [],
   "source": [
    "f2 = open ('./donald_trump.txt')"
   ]
  },
  {
   "cell_type": "code",
   "execution_count": 31,
   "metadata": {},
   "outputs": [
    {
     "data": {
      "text/plain": [
       "_io.TextIOWrapper"
      ]
     },
     "execution_count": 31,
     "metadata": {},
     "output_type": "execute_result"
    }
   ],
   "source": [
    "type(f2)"
   ]
  },
  {
   "cell_type": "code",
   "execution_count": 32,
   "metadata": {
    "collapsed": true
   },
   "outputs": [],
   "source": [
    "quote2 = f2.read()"
   ]
  },
  {
   "cell_type": "code",
   "execution_count": 33,
   "metadata": {},
   "outputs": [
    {
     "data": {
      "text/plain": [
       "'Make America great again'"
      ]
     },
     "execution_count": 33,
     "metadata": {},
     "output_type": "execute_result"
    }
   ],
   "source": [
    "quote2"
   ]
  },
  {
   "cell_type": "code",
   "execution_count": 34,
   "metadata": {
    "collapsed": true
   },
   "outputs": [],
   "source": [
    "f2.close()"
   ]
  },
  {
   "cell_type": "code",
   "execution_count": 57,
   "metadata": {},
   "outputs": [],
   "source": [
    "speech = open('./speech.txt')"
   ]
  },
  {
   "cell_type": "code",
   "execution_count": 43,
   "metadata": {},
   "outputs": [
    {
     "data": {
      "text/plain": [
       "\"Chief Justice Roberts, President Carter, President Clinton, President Bush, President Obama, fellow Americans, and people of the world: thank you.\\n\\nWe, the citizens of America, are now joined in a great national effort to rebuild our country and to restore its promise for all of our people.\\n\\nTogether, we will determine the course of America and the world for years to come.\\n\\nWe will face challenges. We will confront hardships. But we will get the job done.\\n\\nEvery four years, we gather on these steps to carry out the orderly and peaceful transfer of power, and we are grateful to President Obama and First Lady Michelle Obama for their gracious aid throughout this transition. They have been magnificent.\\n\\nToday’s ceremony, however, has very special meaning. Because today we are not merely transferring power from one Administration to another, or from one party to another – but we are transferring power from Washington, D.C. and giving it back to you, the American People.\\n\\nFor too long, a small group in our nation’s Capital has reaped the rewards of government while the people have borne the cost.\\n\\nWashington flourished – but the people did not share in its wealth.\\n\\nPoliticians prospered – but the jobs left, and the factories closed.\\n\\nThe establishment protected itself, but not the citizens of our country.\\n\\nTheir victories have not been your victories; their triumphs have not been your triumphs; and while they celebrated in our nation’s Capital, there was little to celebrate for struggling families all across our land.\\n\\nThat all changes – starting right here, and right now, because this moment is your moment: it belongs to you.\\n\\nIt belongs to everyone gathered here today and everyone watching all across America. \\n\\nThis is your day. This is your celebration.\\n\\nAnd this, the United States of America, is your country.\\n\\nWhat truly matters is not which party controls our government, but whether our government is controlled by the people.\\n\\nJanuary 20th 2017, will be remembered as the day the people became the rulers of this nation again. \\n\\nThe forgotten men and women of our country will be forgotten no longer.\\n\\nEveryone is listening to you now.\\n\\nYou came by the tens of millions to become part of a historic movement the likes of which the world has never seen before.\\n\\nAt the center of this movement is a crucial conviction: that a nation exists to serve its citizens.\\n\\nAmericans want great schools for their children, safe neighborhoods for their families, and good jobs for themselves.\\n\\nThese are the just and reasonable demands of a righteous public.\\n\\nBut for too many of our citizens, a different reality exists: Mothers and children trapped in poverty in our inner cities; rusted-out factories scattered like tombstones across the landscape of our nation; an education system, flush with cash, but which leaves our young and beautiful students deprived of knowledge; and the crime and gangs and drugs that have stolen too many lives and robbed our country of so much unrealized potential.\\n\\nThis American carnage stops right here and stops right now.\\n\\nWe are one nation – and their pain is our pain.  Their dreams are our dreams; and their success will be our success.  We share one heart, one home, and one glorious destiny.\\n\\nThe oath of office I take today is an oath of allegiance to all Americans.\\n\\nFor many decades, we’ve enriched foreign industry at the expense of American industry;\\n\\nSubsidized the armies of other countries while allowing for the very sad depletion of our military;\\n\\nWe've defended other nation’s borders while refusing to defend our own;\\n\\nAnd spent trillions of dollars overseas while America's infrastructure has fallen into disrepair and decay.\\n\\nWe’ve made other countries rich while the wealth, strength, and confidence of our country has disappeared over the horizon.\\n\\nOne by one, the factories shuttered and left our shores, with not even a thought about the millions upon millions of American workers left behind.\\n\\nThe wealth of our middle class has been ripped from their homes and then redistributed across the entire world.\\n\\nBut that is the past. And now we are looking only to the future.\\n\\nWe assembled here today are issuing a new decree to be heard in every city, in every foreign capital, and in every hall of power.\\n\\nFrom this day forward, a new vision will govern our land.\\n\\nFrom this moment on, it’s going to be America First.\\n\\nEvery decision on trade, on taxes, on immigration, on foreign affairs, will be made to benefit American workers and American families.\\n\\nWe must protect our borders from the ravages of other countries making our products, stealing our companies, and destroying our jobs.  Protection will lead to great prosperity and strength.\\n\\nI will fight for you with every breath in my body – and I will never, ever let you down.\\n\\nAmerica will start winning again, winning like never before.\\n\\nWe will bring back our jobs. We will bring back our borders.  We will bring back our wealth.  And we will bring back our dreams.\\n\\nWe will build new roads, and highways, and bridges, and airports, and tunnels, and railways all across our wonderful nation.\\n\\nWe will get our people off of welfare and back to work – rebuilding our country with American hands and American labor.\\n\\nWe will follow two simple rules: Buy American and Hire American.\\n\\nWe will seek friendship and goodwill with the nations of the world – but we do so with the understanding that it is the right of all nations to put their own interests first.\\n\\nWe do not seek to impose our way of life on anyone, but rather to let it shine as an example for everyone to follow.\\n\\nWe will reinforce old alliances and form new ones – and unite the civilized world against Radical Islamic Terrorism, which we will eradicate completely from the face of the Earth.\\n\\nAt the bedrock of our politics will be a total allegiance to the United States of America, and through our loyalty to our country, we will rediscover our loyalty to each other.\\n\\nWhen you open your heart to patriotism, there is no room for prejudice.\\n\\nThe Bible tells us, “how good and pleasant it is when God’s people live together in unity.”\\n\\nWe must speak our minds openly, debate our disagreements honestly, but always pursue solidarity.\\n\\nWhen America is united, America is totally unstoppable.\\n\\nThere should be no fear – we are protected, and we will always be protected.\\n\\nWe will be protected by the great men and women of our military and law enforcement and, most importantly, we are protected by God.\\n\\nFinally, we must think big and dream even bigger.\\n\\nIn America, we understand that a nation is only living as long as it is striving.\\n\\nWe will no longer accept politicians who are all talk and no action – constantly complaining but never doing anything about it.\\n\\nThe time for empty talk is over.\\n\\nNow arrives the hour of action.\\n\\nDo not let anyone tell you it cannot be done.  No challenge can match the heart and fight and spirit of America.\\n\\nWe will not fail. Our country will thrive and prosper again.\\n\\nWe stand at the birth of a new millennium, ready to unlock the mysteries of space, to free the Earth from the miseries of disease, and to harness the energies, industries and technologies of tomorrow.\\n\\nA new national pride will stir our souls, lift our sights, and heal our divisions.\\n\\nIt is time to remember that old wisdom our soldiers will never forget: that whether we are black or brown or white, we all bleed the same red blood of patriots, we all enjoy the same glorious freedoms, and we all salute the same great American Flag.\\n\\nAnd whether a child is born in the urban sprawl of Detroit or the windswept plains of Nebraska, they look up at the same night sky, they fill their heart with the same dreams, and they are infused with the breath of life by the same almighty Creator.\\n\\nSo to all Americans, in every city near and far, small and large, from mountain to mountain, and from ocean to ocean, hear these words:\\n\\nYou will never be ignored again.\\n\\nYour voice, your hopes, and your dreams, will define our American destiny. And your courage and goodness and love will forever guide us along the way.\\n\\nTogether, We Will Make America Strong Again.\\n\\nWe Will Make America Wealthy Again.\\n\\nWe Will Make America Proud Again.\\n\\nWe Will Make America Safe Again.\\n\\nAnd, Yes, Together, We Will Make America Great Again. Thank you, God Bless You, And God Bless America.\\n\""
      ]
     },
     "execution_count": 43,
     "metadata": {},
     "output_type": "execute_result"
    }
   ],
   "source": [
    "speech.read()"
   ]
  },
  {
   "cell_type": "code",
   "execution_count": 44,
   "metadata": {},
   "outputs": [
    {
     "data": {
      "text/plain": [
       "0"
      ]
     },
     "execution_count": 44,
     "metadata": {},
     "output_type": "execute_result"
    }
   ],
   "source": [
    "speech.seek(0)"
   ]
  },
  {
   "cell_type": "code",
   "execution_count": 45,
   "metadata": {},
   "outputs": [
    {
     "data": {
      "text/plain": [
       "['Chief Justice Roberts, President Carter, President Clinton, President Bush, President Obama, fellow Americans, and people of the world: thank you.\\n',\n",
       " '\\n',\n",
       " 'We, the citizens of America, are now joined in a great national effort to rebuild our country and to restore its promise for all of our people.\\n',\n",
       " '\\n',\n",
       " 'Together, we will determine the course of America and the world for years to come.\\n',\n",
       " '\\n',\n",
       " 'We will face challenges. We will confront hardships. But we will get the job done.\\n',\n",
       " '\\n',\n",
       " 'Every four years, we gather on these steps to carry out the orderly and peaceful transfer of power, and we are grateful to President Obama and First Lady Michelle Obama for their gracious aid throughout this transition. They have been magnificent.\\n',\n",
       " '\\n',\n",
       " 'Today’s ceremony, however, has very special meaning. Because today we are not merely transferring power from one Administration to another, or from one party to another – but we are transferring power from Washington, D.C. and giving it back to you, the American People.\\n',\n",
       " '\\n',\n",
       " 'For too long, a small group in our nation’s Capital has reaped the rewards of government while the people have borne the cost.\\n',\n",
       " '\\n',\n",
       " 'Washington flourished – but the people did not share in its wealth.\\n',\n",
       " '\\n',\n",
       " 'Politicians prospered – but the jobs left, and the factories closed.\\n',\n",
       " '\\n',\n",
       " 'The establishment protected itself, but not the citizens of our country.\\n',\n",
       " '\\n',\n",
       " 'Their victories have not been your victories; their triumphs have not been your triumphs; and while they celebrated in our nation’s Capital, there was little to celebrate for struggling families all across our land.\\n',\n",
       " '\\n',\n",
       " 'That all changes – starting right here, and right now, because this moment is your moment: it belongs to you.\\n',\n",
       " '\\n',\n",
       " 'It belongs to everyone gathered here today and everyone watching all across America. \\n',\n",
       " '\\n',\n",
       " 'This is your day. This is your celebration.\\n',\n",
       " '\\n',\n",
       " 'And this, the United States of America, is your country.\\n',\n",
       " '\\n',\n",
       " 'What truly matters is not which party controls our government, but whether our government is controlled by the people.\\n',\n",
       " '\\n',\n",
       " 'January 20th 2017, will be remembered as the day the people became the rulers of this nation again. \\n',\n",
       " '\\n',\n",
       " 'The forgotten men and women of our country will be forgotten no longer.\\n',\n",
       " '\\n',\n",
       " 'Everyone is listening to you now.\\n',\n",
       " '\\n',\n",
       " 'You came by the tens of millions to become part of a historic movement the likes of which the world has never seen before.\\n',\n",
       " '\\n',\n",
       " 'At the center of this movement is a crucial conviction: that a nation exists to serve its citizens.\\n',\n",
       " '\\n',\n",
       " 'Americans want great schools for their children, safe neighborhoods for their families, and good jobs for themselves.\\n',\n",
       " '\\n',\n",
       " 'These are the just and reasonable demands of a righteous public.\\n',\n",
       " '\\n',\n",
       " 'But for too many of our citizens, a different reality exists: Mothers and children trapped in poverty in our inner cities; rusted-out factories scattered like tombstones across the landscape of our nation; an education system, flush with cash, but which leaves our young and beautiful students deprived of knowledge; and the crime and gangs and drugs that have stolen too many lives and robbed our country of so much unrealized potential.\\n',\n",
       " '\\n',\n",
       " 'This American carnage stops right here and stops right now.\\n',\n",
       " '\\n',\n",
       " 'We are one nation – and their pain is our pain.  Their dreams are our dreams; and their success will be our success.  We share one heart, one home, and one glorious destiny.\\n',\n",
       " '\\n',\n",
       " 'The oath of office I take today is an oath of allegiance to all Americans.\\n',\n",
       " '\\n',\n",
       " 'For many decades, we’ve enriched foreign industry at the expense of American industry;\\n',\n",
       " '\\n',\n",
       " 'Subsidized the armies of other countries while allowing for the very sad depletion of our military;\\n',\n",
       " '\\n',\n",
       " \"We've defended other nation’s borders while refusing to defend our own;\\n\",\n",
       " '\\n',\n",
       " \"And spent trillions of dollars overseas while America's infrastructure has fallen into disrepair and decay.\\n\",\n",
       " '\\n',\n",
       " 'We’ve made other countries rich while the wealth, strength, and confidence of our country has disappeared over the horizon.\\n',\n",
       " '\\n',\n",
       " 'One by one, the factories shuttered and left our shores, with not even a thought about the millions upon millions of American workers left behind.\\n',\n",
       " '\\n',\n",
       " 'The wealth of our middle class has been ripped from their homes and then redistributed across the entire world.\\n',\n",
       " '\\n',\n",
       " 'But that is the past. And now we are looking only to the future.\\n',\n",
       " '\\n',\n",
       " 'We assembled here today are issuing a new decree to be heard in every city, in every foreign capital, and in every hall of power.\\n',\n",
       " '\\n',\n",
       " 'From this day forward, a new vision will govern our land.\\n',\n",
       " '\\n',\n",
       " 'From this moment on, it’s going to be America First.\\n',\n",
       " '\\n',\n",
       " 'Every decision on trade, on taxes, on immigration, on foreign affairs, will be made to benefit American workers and American families.\\n',\n",
       " '\\n',\n",
       " 'We must protect our borders from the ravages of other countries making our products, stealing our companies, and destroying our jobs.  Protection will lead to great prosperity and strength.\\n',\n",
       " '\\n',\n",
       " 'I will fight for you with every breath in my body – and I will never, ever let you down.\\n',\n",
       " '\\n',\n",
       " 'America will start winning again, winning like never before.\\n',\n",
       " '\\n',\n",
       " 'We will bring back our jobs. We will bring back our borders.  We will bring back our wealth.  And we will bring back our dreams.\\n',\n",
       " '\\n',\n",
       " 'We will build new roads, and highways, and bridges, and airports, and tunnels, and railways all across our wonderful nation.\\n',\n",
       " '\\n',\n",
       " 'We will get our people off of welfare and back to work – rebuilding our country with American hands and American labor.\\n',\n",
       " '\\n',\n",
       " 'We will follow two simple rules: Buy American and Hire American.\\n',\n",
       " '\\n',\n",
       " 'We will seek friendship and goodwill with the nations of the world – but we do so with the understanding that it is the right of all nations to put their own interests first.\\n',\n",
       " '\\n',\n",
       " 'We do not seek to impose our way of life on anyone, but rather to let it shine as an example for everyone to follow.\\n',\n",
       " '\\n',\n",
       " 'We will reinforce old alliances and form new ones – and unite the civilized world against Radical Islamic Terrorism, which we will eradicate completely from the face of the Earth.\\n',\n",
       " '\\n',\n",
       " 'At the bedrock of our politics will be a total allegiance to the United States of America, and through our loyalty to our country, we will rediscover our loyalty to each other.\\n',\n",
       " '\\n',\n",
       " 'When you open your heart to patriotism, there is no room for prejudice.\\n',\n",
       " '\\n',\n",
       " 'The Bible tells us, “how good and pleasant it is when God’s people live together in unity.”\\n',\n",
       " '\\n',\n",
       " 'We must speak our minds openly, debate our disagreements honestly, but always pursue solidarity.\\n',\n",
       " '\\n',\n",
       " 'When America is united, America is totally unstoppable.\\n',\n",
       " '\\n',\n",
       " 'There should be no fear – we are protected, and we will always be protected.\\n',\n",
       " '\\n',\n",
       " 'We will be protected by the great men and women of our military and law enforcement and, most importantly, we are protected by God.\\n',\n",
       " '\\n',\n",
       " 'Finally, we must think big and dream even bigger.\\n',\n",
       " '\\n',\n",
       " 'In America, we understand that a nation is only living as long as it is striving.\\n',\n",
       " '\\n',\n",
       " 'We will no longer accept politicians who are all talk and no action – constantly complaining but never doing anything about it.\\n',\n",
       " '\\n',\n",
       " 'The time for empty talk is over.\\n',\n",
       " '\\n',\n",
       " 'Now arrives the hour of action.\\n',\n",
       " '\\n',\n",
       " 'Do not let anyone tell you it cannot be done.  No challenge can match the heart and fight and spirit of America.\\n',\n",
       " '\\n',\n",
       " 'We will not fail. Our country will thrive and prosper again.\\n',\n",
       " '\\n',\n",
       " 'We stand at the birth of a new millennium, ready to unlock the mysteries of space, to free the Earth from the miseries of disease, and to harness the energies, industries and technologies of tomorrow.\\n',\n",
       " '\\n',\n",
       " 'A new national pride will stir our souls, lift our sights, and heal our divisions.\\n',\n",
       " '\\n',\n",
       " 'It is time to remember that old wisdom our soldiers will never forget: that whether we are black or brown or white, we all bleed the same red blood of patriots, we all enjoy the same glorious freedoms, and we all salute the same great American Flag.\\n',\n",
       " '\\n',\n",
       " 'And whether a child is born in the urban sprawl of Detroit or the windswept plains of Nebraska, they look up at the same night sky, they fill their heart with the same dreams, and they are infused with the breath of life by the same almighty Creator.\\n',\n",
       " '\\n',\n",
       " 'So to all Americans, in every city near and far, small and large, from mountain to mountain, and from ocean to ocean, hear these words:\\n',\n",
       " '\\n',\n",
       " 'You will never be ignored again.\\n',\n",
       " '\\n',\n",
       " 'Your voice, your hopes, and your dreams, will define our American destiny. And your courage and goodness and love will forever guide us along the way.\\n',\n",
       " '\\n',\n",
       " 'Together, We Will Make America Strong Again.\\n',\n",
       " '\\n',\n",
       " 'We Will Make America Wealthy Again.\\n',\n",
       " '\\n',\n",
       " 'We Will Make America Proud Again.\\n',\n",
       " '\\n',\n",
       " 'We Will Make America Safe Again.\\n',\n",
       " '\\n',\n",
       " 'And, Yes, Together, We Will Make America Great Again. Thank you, God Bless You, And God Bless America.\\n']"
      ]
     },
     "execution_count": 45,
     "metadata": {},
     "output_type": "execute_result"
    }
   ],
   "source": [
    "speech.readlines()"
   ]
  },
  {
   "cell_type": "code",
   "execution_count": 58,
   "metadata": {},
   "outputs": [
    {
     "name": "stdout",
     "output_type": "stream",
     "text": [
      "Chief Justice Roberts, President Carter, President Clinton, President Bush, President Obama, fellow Americans, and people of the world: thank you.\n",
      "==================================================\n",
      "\n",
      "==================================================\n",
      "We, the citizens of America, are now joined in a great national effort to rebuild our country and to restore its promise for all of our people.\n",
      "==================================================\n",
      "\n",
      "==================================================\n",
      "Together, we will determine the course of America and the world for years to come.\n",
      "==================================================\n",
      "\n",
      "==================================================\n",
      "We will face challenges. We will confront hardships. But we will get the job done.\n",
      "==================================================\n",
      "\n",
      "==================================================\n",
      "Every four years, we gather on these steps to carry out the orderly and peaceful transfer of power, and we are grateful to President Obama and First Lady Michelle Obama for their gracious aid throughout this transition. They have been magnificent.\n",
      "==================================================\n",
      "\n",
      "==================================================\n",
      "Today’s ceremony, however, has very special meaning. Because today we are not merely transferring power from one Administration to another, or from one party to another – but we are transferring power from Washington, D.C. and giving it back to you, the American People.\n",
      "==================================================\n",
      "\n",
      "==================================================\n",
      "For too long, a small group in our nation’s Capital has reaped the rewards of government while the people have borne the cost.\n",
      "==================================================\n",
      "\n",
      "==================================================\n",
      "Washington flourished – but the people did not share in its wealth.\n",
      "==================================================\n",
      "\n",
      "==================================================\n",
      "Politicians prospered – but the jobs left, and the factories closed.\n",
      "==================================================\n",
      "\n",
      "==================================================\n",
      "The establishment protected itself, but not the citizens of our country.\n",
      "==================================================\n",
      "\n",
      "==================================================\n",
      "Their victories have not been your victories; their triumphs have not been your triumphs; and while they celebrated in our nation’s Capital, there was little to celebrate for struggling families all across our land.\n",
      "==================================================\n",
      "\n",
      "==================================================\n",
      "That all changes – starting right here, and right now, because this moment is your moment: it belongs to you.\n",
      "==================================================\n",
      "\n",
      "==================================================\n",
      "It belongs to everyone gathered here today and everyone watching all across America.\n",
      "==================================================\n",
      "\n",
      "==================================================\n",
      "This is your day. This is your celebration.\n",
      "==================================================\n",
      "\n",
      "==================================================\n",
      "And this, the United States of America, is your country.\n",
      "==================================================\n",
      "\n",
      "==================================================\n",
      "What truly matters is not which party controls our government, but whether our government is controlled by the people.\n",
      "==================================================\n",
      "\n",
      "==================================================\n",
      "January 20th 2017, will be remembered as the day the people became the rulers of this nation again.\n",
      "==================================================\n",
      "\n",
      "==================================================\n",
      "The forgotten men and women of our country will be forgotten no longer.\n",
      "==================================================\n",
      "\n",
      "==================================================\n",
      "Everyone is listening to you now.\n",
      "==================================================\n",
      "\n",
      "==================================================\n",
      "You came by the tens of millions to become part of a historic movement the likes of which the world has never seen before.\n",
      "==================================================\n",
      "\n",
      "==================================================\n",
      "At the center of this movement is a crucial conviction: that a nation exists to serve its citizens.\n",
      "==================================================\n",
      "\n",
      "==================================================\n",
      "Americans want great schools for their children, safe neighborhoods for their families, and good jobs for themselves.\n",
      "==================================================\n",
      "\n",
      "==================================================\n",
      "These are the just and reasonable demands of a righteous public.\n",
      "==================================================\n",
      "\n",
      "==================================================\n",
      "But for too many of our citizens, a different reality exists: Mothers and children trapped in poverty in our inner cities; rusted-out factories scattered like tombstones across the landscape of our nation; an education system, flush with cash, but which leaves our young and beautiful students deprived of knowledge; and the crime and gangs and drugs that have stolen too many lives and robbed our country of so much unrealized potential.\n",
      "==================================================\n",
      "\n",
      "==================================================\n",
      "This American carnage stops right here and stops right now.\n",
      "==================================================\n",
      "\n",
      "==================================================\n",
      "We are one nation – and their pain is our pain.  Their dreams are our dreams; and their success will be our success.  We share one heart, one home, and one glorious destiny.\n",
      "==================================================\n",
      "\n",
      "==================================================\n",
      "The oath of office I take today is an oath of allegiance to all Americans.\n",
      "==================================================\n",
      "\n",
      "==================================================\n",
      "For many decades, we’ve enriched foreign industry at the expense of American industry;\n",
      "==================================================\n",
      "\n",
      "==================================================\n",
      "Subsidized the armies of other countries while allowing for the very sad depletion of our military;\n",
      "==================================================\n",
      "\n",
      "==================================================\n",
      "We've defended other nation’s borders while refusing to defend our own;\n",
      "==================================================\n",
      "\n",
      "==================================================\n",
      "And spent trillions of dollars overseas while America's infrastructure has fallen into disrepair and decay.\n",
      "==================================================\n",
      "\n",
      "==================================================\n",
      "We’ve made other countries rich while the wealth, strength, and confidence of our country has disappeared over the horizon.\n",
      "==================================================\n",
      "\n",
      "==================================================\n",
      "One by one, the factories shuttered and left our shores, with not even a thought about the millions upon millions of American workers left behind.\n",
      "==================================================\n",
      "\n",
      "==================================================\n",
      "The wealth of our middle class has been ripped from their homes and then redistributed across the entire world.\n",
      "==================================================\n",
      "\n",
      "==================================================\n",
      "But that is the past. And now we are looking only to the future.\n",
      "==================================================\n",
      "\n",
      "==================================================\n",
      "We assembled here today are issuing a new decree to be heard in every city, in every foreign capital, and in every hall of power.\n",
      "==================================================\n",
      "\n",
      "==================================================\n",
      "From this day forward, a new vision will govern our land.\n",
      "==================================================\n",
      "\n",
      "==================================================\n",
      "From this moment on, it’s going to be America First.\n",
      "==================================================\n",
      "\n",
      "==================================================\n",
      "Every decision on trade, on taxes, on immigration, on foreign affairs, will be made to benefit American workers and American families.\n",
      "==================================================\n",
      "\n",
      "==================================================\n",
      "We must protect our borders from the ravages of other countries making our products, stealing our companies, and destroying our jobs.  Protection will lead to great prosperity and strength.\n",
      "==================================================\n",
      "\n",
      "==================================================\n",
      "I will fight for you with every breath in my body – and I will never, ever let you down.\n",
      "==================================================\n",
      "\n",
      "==================================================\n",
      "America will start winning again, winning like never before.\n",
      "==================================================\n",
      "\n",
      "==================================================\n",
      "We will bring back our jobs. We will bring back our borders.  We will bring back our wealth.  And we will bring back our dreams.\n",
      "==================================================\n",
      "\n",
      "==================================================\n",
      "We will build new roads, and highways, and bridges, and airports, and tunnels, and railways all across our wonderful nation.\n",
      "==================================================\n",
      "\n",
      "==================================================\n",
      "We will get our people off of welfare and back to work – rebuilding our country with American hands and American labor.\n",
      "==================================================\n",
      "\n",
      "==================================================\n",
      "We will follow two simple rules: Buy American and Hire American.\n",
      "==================================================\n",
      "\n",
      "==================================================\n",
      "We will seek friendship and goodwill with the nations of the world – but we do so with the understanding that it is the right of all nations to put their own interests first.\n",
      "==================================================\n",
      "\n",
      "==================================================\n",
      "We do not seek to impose our way of life on anyone, but rather to let it shine as an example for everyone to follow.\n",
      "==================================================\n",
      "\n",
      "==================================================\n",
      "We will reinforce old alliances and form new ones – and unite the civilized world against Radical Islamic Terrorism, which we will eradicate completely from the face of the Earth.\n",
      "==================================================\n",
      "\n",
      "==================================================\n",
      "At the bedrock of our politics will be a total allegiance to the United States of America, and through our loyalty to our country, we will rediscover our loyalty to each other.\n",
      "==================================================\n",
      "\n",
      "==================================================\n",
      "When you open your heart to patriotism, there is no room for prejudice.\n",
      "==================================================\n",
      "\n",
      "==================================================\n",
      "The Bible tells us, “how good and pleasant it is when God’s people live together in unity.”\n",
      "==================================================\n",
      "\n",
      "==================================================\n",
      "We must speak our minds openly, debate our disagreements honestly, but always pursue solidarity.\n",
      "==================================================\n",
      "\n",
      "==================================================\n",
      "When America is united, America is totally unstoppable.\n",
      "==================================================\n",
      "\n",
      "==================================================\n",
      "There should be no fear – we are protected, and we will always be protected.\n",
      "==================================================\n",
      "\n",
      "==================================================\n",
      "We will be protected by the great men and women of our military and law enforcement and, most importantly, we are protected by God.\n",
      "==================================================\n",
      "\n",
      "==================================================\n",
      "Finally, we must think big and dream even bigger.\n",
      "==================================================\n",
      "\n",
      "==================================================\n",
      "In America, we understand that a nation is only living as long as it is striving.\n",
      "==================================================\n",
      "\n",
      "==================================================\n",
      "We will no longer accept politicians who are all talk and no action – constantly complaining but never doing anything about it.\n",
      "==================================================\n",
      "\n",
      "==================================================\n",
      "The time for empty talk is over.\n",
      "==================================================\n",
      "\n",
      "==================================================\n",
      "Now arrives the hour of action.\n",
      "==================================================\n",
      "\n",
      "==================================================\n",
      "Do not let anyone tell you it cannot be done.  No challenge can match the heart and fight and spirit of America.\n",
      "==================================================\n",
      "\n",
      "==================================================\n",
      "We will not fail. Our country will thrive and prosper again.\n",
      "==================================================\n",
      "\n",
      "==================================================\n",
      "We stand at the birth of a new millennium, ready to unlock the mysteries of space, to free the Earth from the miseries of disease, and to harness the energies, industries and technologies of tomorrow.\n",
      "==================================================\n",
      "\n",
      "==================================================\n",
      "A new national pride will stir our souls, lift our sights, and heal our divisions.\n",
      "==================================================\n",
      "\n",
      "==================================================\n",
      "It is time to remember that old wisdom our soldiers will never forget: that whether we are black or brown or white, we all bleed the same red blood of patriots, we all enjoy the same glorious freedoms, and we all salute the same great American Flag.\n",
      "==================================================\n",
      "\n",
      "==================================================\n",
      "And whether a child is born in the urban sprawl of Detroit or the windswept plains of Nebraska, they look up at the same night sky, they fill their heart with the same dreams, and they are infused with the breath of life by the same almighty Creator.\n",
      "==================================================\n",
      "\n",
      "==================================================\n",
      "So to all Americans, in every city near and far, small and large, from mountain to mountain, and from ocean to ocean, hear these words:\n",
      "==================================================\n",
      "\n",
      "==================================================\n",
      "You will never be ignored again.\n",
      "==================================================\n",
      "\n",
      "==================================================\n",
      "Your voice, your hopes, and your dreams, will define our American destiny. And your courage and goodness and love will forever guide us along the way.\n",
      "==================================================\n",
      "\n",
      "==================================================\n",
      "Together, We Will Make America Strong Again.\n",
      "==================================================\n",
      "\n",
      "==================================================\n",
      "We Will Make America Wealthy Again.\n",
      "==================================================\n",
      "\n",
      "==================================================\n",
      "We Will Make America Proud Again.\n",
      "==================================================\n",
      "\n",
      "==================================================\n",
      "We Will Make America Safe Again.\n",
      "==================================================\n",
      "\n",
      "==================================================\n",
      "And, Yes, Together, We Will Make America Great Again. Thank you, God Bless You, And God Bless America.\n",
      "==================================================\n"
     ]
    }
   ],
   "source": [
    "for line in speech:\n",
    "    print(line.strip())\n",
    "    print(\"=\"*50)"
   ]
  },
  {
   "cell_type": "code",
   "execution_count": 60,
   "metadata": {},
   "outputs": [],
   "source": [
    "speech.close()"
   ]
  },
  {
   "cell_type": "markdown",
   "metadata": {},
   "source": [
    "## Exercise"
   ]
  },
  {
   "cell_type": "markdown",
   "metadata": {},
   "source": [
    "##### Donald Trump speech word count"
   ]
  },
  {
   "cell_type": "code",
   "execution_count": 61,
   "metadata": {
    "collapsed": true
   },
   "outputs": [],
   "source": [
    "# with open('./donald_trump.txt') as f:\n",
    "# Output:\n",
    "# [('America', 99), ('great', 80), .....]"
   ]
  },
  {
   "cell_type": "code",
   "execution_count": 62,
   "metadata": {
    "collapsed": true
   },
   "outputs": [],
   "source": [
    "mydict = {\n",
    "    \"chief\": 1,\n",
    "    'justice': 2,\n",
    "    'roberts': 1,\n",
    "}"
   ]
  },
  {
   "cell_type": "code",
   "execution_count": 63,
   "metadata": {},
   "outputs": [
    {
     "name": "stdout",
     "output_type": "stream",
     "text": [
      "chief\n",
      "justice\n",
      "roberts\n"
     ]
    }
   ],
   "source": [
    "for x in mydict:\n",
    "    print(x)"
   ]
  },
  {
   "cell_type": "code",
   "execution_count": 64,
   "metadata": {},
   "outputs": [
    {
     "name": "stdout",
     "output_type": "stream",
     "text": [
      "1\n",
      "2\n",
      "1\n"
     ]
    }
   ],
   "source": [
    "for x in mydict:\n",
    "    print(mydict[x])"
   ]
  },
  {
   "cell_type": "code",
   "execution_count": 65,
   "metadata": {},
   "outputs": [
    {
     "data": {
      "text/plain": [
       "dict_keys(['chief', 'justice', 'roberts'])"
      ]
     },
     "execution_count": 65,
     "metadata": {},
     "output_type": "execute_result"
    }
   ],
   "source": [
    "mydict.keys()"
   ]
  },
  {
   "cell_type": "code",
   "execution_count": 66,
   "metadata": {},
   "outputs": [
    {
     "data": {
      "text/plain": [
       "dict_values([1, 2, 1])"
      ]
     },
     "execution_count": 66,
     "metadata": {},
     "output_type": "execute_result"
    }
   ],
   "source": [
    "mydict.values()"
   ]
  },
  {
   "cell_type": "code",
   "execution_count": 67,
   "metadata": {},
   "outputs": [
    {
     "data": {
      "text/plain": [
       "dict_items([('chief', 1), ('justice', 2), ('roberts', 1)])"
      ]
     },
     "execution_count": 67,
     "metadata": {},
     "output_type": "execute_result"
    }
   ],
   "source": [
    "mydict.items()"
   ]
  },
  {
   "cell_type": "code",
   "execution_count": 69,
   "metadata": {},
   "outputs": [
    {
     "name": "stdout",
     "output_type": "stream",
     "text": [
      "[('and', 74), ('the', 70), ('of', 48), ('our', 48), ('we', 46), ('will', 40), ('to', 37), ('is', 21), ('america', 17), ('a', 15)]\n"
     ]
    }
   ],
   "source": [
    "with open('./speech.txt') as f:\n",
    "    speech = f.read().replace(',', \"\").replace(\".\", \"\") #將標點符號都用空格取代\n",
    "    cnt = {}\n",
    "    for word in speech.split():\n",
    "        word = word.lower() #全部換成小寫\n",
    "        if word in cnt:\n",
    "            cnt[word] += 1\n",
    "        else:\n",
    "            cnt[word] = 1\n",
    "            \n",
    "def custom_sort(entry):\n",
    "    return entry[1]\n",
    "    \n",
    "print(sorted(cnt.items(), key=lambda x: x[1], reverse=True)[:10])\n",
    "#print(sorted(cnt.items(), key=custom_sort, reverse=True))"
   ]
  },
  {
   "cell_type": "code",
   "execution_count": 71,
   "metadata": {},
   "outputs": [
    {
     "data": {
      "text/plain": [
       "[('and', 74),\n",
       " ('the', 70),\n",
       " ('of', 48),\n",
       " ('our', 48),\n",
       " ('we', 46),\n",
       " ('will', 40),\n",
       " ('to', 37),\n",
       " ('is', 21),\n",
       " ('america', 17),\n",
       " ('a', 15)]"
      ]
     },
     "execution_count": 71,
     "metadata": {},
     "output_type": "execute_result"
    }
   ],
   "source": [
    "from collections import Counter\n",
    "\n",
    "with open('./speech.txt') as f:\n",
    "    speech = f.read().replace(',', \"\").replace(\".\", \"\")\n",
    "    cnt = Counter()\n",
    "    for word in speech.split():\n",
    "        word = word.lower()\n",
    "        if word in cnt:\n",
    "            cnt[word] += 1\n",
    "        else:\n",
    "            cnt[word] = 1\n",
    "            \n",
    "cnt.most_common(10)"
   ]
  },
  {
   "cell_type": "code",
   "execution_count": null,
   "metadata": {
    "collapsed": true
   },
   "outputs": [],
   "source": []
  }
 ],
 "metadata": {
  "kernelspec": {
   "display_name": "Python 3",
   "language": "python",
   "name": "python3"
  },
  "language_info": {
   "codemirror_mode": {
    "name": "ipython",
    "version": 3
   },
   "file_extension": ".py",
   "mimetype": "text/x-python",
   "name": "python",
   "nbconvert_exporter": "python",
   "pygments_lexer": "ipython3",
   "version": "3.6.1"
  }
 },
 "nbformat": 4,
 "nbformat_minor": 2
}
