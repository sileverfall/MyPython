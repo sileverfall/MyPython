{
 "cells": [
  {
   "cell_type": "code",
   "execution_count": 1,
   "metadata": {
    "collapsed": true
   },
   "outputs": [],
   "source": [
    "#python 對於縮排有強制的規範，沒有照規則寫的程式碼不能執行\n",
    "# 所有的變量都需要先定義再引用"
   ]
  },
  {
   "cell_type": "code",
   "execution_count": 6,
   "metadata": {},
   "outputs": [
    {
     "name": "stdout",
     "output_type": "stream",
     "text": [
      "10100\n"
     ]
    }
   ],
   "source": [
    "#lambda 運算模式\n",
    "def g(x):\n",
    "    return x*5\n",
    "def f(g,x):\n",
    "    return g(x)+100\n",
    "print(f(lambda x:x*100,100))"
   ]
  },
  {
   "cell_type": "markdown",
   "metadata": {},
   "source": [
    "## Collection (容器?)"
   ]
  },
  {
   "cell_type": "code",
   "execution_count": 2,
   "metadata": {},
   "outputs": [
    {
     "name": "stdout",
     "output_type": "stream",
     "text": [
      "1\n",
      "2\n",
      "3\n",
      "4\n",
      "5\n"
     ]
    }
   ],
   "source": [
    "#list\n",
    "li =[1,2,3,4,5]\n",
    "for i in li:\n",
    "    print(i)"
   ]
  },
  {
   "cell_type": "code",
   "execution_count": 3,
   "metadata": {},
   "outputs": [
    {
     "name": "stdout",
     "output_type": "stream",
     "text": [
      "1\n",
      "2\n",
      "3\n",
      "4\n",
      "5\n"
     ]
    }
   ],
   "source": [
    "for i in range(len(li)):\n",
    "    print(li[i])"
   ]
  },
  {
   "cell_type": "code",
   "execution_count": 7,
   "metadata": {},
   "outputs": [
    {
     "name": "stdout",
     "output_type": "stream",
     "text": [
      "1\n",
      "3\n",
      "5\n",
      "7\n",
      "9\n"
     ]
    }
   ],
   "source": [
    "for i in range(1,10,2):\n",
    "    print(i)"
   ]
  },
  {
   "cell_type": "code",
   "execution_count": 9,
   "metadata": {},
   "outputs": [
    {
     "name": "stdout",
     "output_type": "stream",
     "text": [
      "5\n",
      "4\n"
     ]
    }
   ],
   "source": [
    "#負數索引\n",
    "print(li[-1])\n",
    "print(li[-2])"
   ]
  },
  {
   "cell_type": "code",
   "execution_count": 10,
   "metadata": {},
   "outputs": [
    {
     "name": "stdout",
     "output_type": "stream",
     "text": [
      "3\n",
      "2\n",
      "1\n",
      "0\n"
     ]
    }
   ],
   "source": [
    "#負數 step的range =>[x,x-z,....,>z]\n",
    "for i in range(3,-1,-1):\n",
    "    print(i)"
   ]
  },
  {
   "cell_type": "code",
   "execution_count": 11,
   "metadata": {},
   "outputs": [
    {
     "name": "stdout",
     "output_type": "stream",
     "text": [
      "[1, 2, 'abc', ['d', 'e', 'f']]\n"
     ]
    }
   ],
   "source": [
    "# 添加元素\n",
    "li = []\n",
    "li.append(1)\n",
    "li.append(2)\n",
    "li.append('abc')\n",
    "li.append(['d','e','f'])\n",
    "print(li)"
   ]
  },
  {
   "cell_type": "code",
   "execution_count": 14,
   "metadata": {},
   "outputs": [
    {
     "name": "stdout",
     "output_type": "stream",
     "text": [
      "[1, 2, [3, 4, 5]]\n"
     ]
    }
   ],
   "source": [
    "li = [1,2]\n",
    "li_2 = [3,4,5]\n",
    "li.append(li_2)\n",
    "print(li)"
   ]
  },
  {
   "cell_type": "code",
   "execution_count": 15,
   "metadata": {},
   "outputs": [
    {
     "name": "stdout",
     "output_type": "stream",
     "text": [
      "[1, 2, [3, 4, 5], 3, 4, 5]\n"
     ]
    }
   ],
   "source": [
    "li.extend(li_2)\n",
    "print(li)"
   ]
  },
  {
   "cell_type": "code",
   "execution_count": 19,
   "metadata": {},
   "outputs": [
    {
     "data": {
      "text/plain": [
       "5"
      ]
     },
     "execution_count": 19,
     "metadata": {},
     "output_type": "execute_result"
    }
   ],
   "source": [
    "# 刪除元素\n",
    "li_3=[1,2,3,4,5]\n",
    "li_3.pop()"
   ]
  },
  {
   "cell_type": "code",
   "execution_count": 20,
   "metadata": {},
   "outputs": [
    {
     "name": "stdout",
     "output_type": "stream",
     "text": [
      "4\n",
      "[1, 2, 3]\n"
     ]
    }
   ],
   "source": [
    "print(li_3.pop())\n",
    "print(li_3)"
   ]
  },
  {
   "cell_type": "code",
   "execution_count": 21,
   "metadata": {},
   "outputs": [
    {
     "name": "stdout",
     "output_type": "stream",
     "text": [
      "[2, 3, 4, 5, 7, 8]\n"
     ]
    }
   ],
   "source": [
    "# 排序\n",
    "li = [5,8,7,4,2,3]\n",
    "li.sort()\n",
    "print(li)"
   ]
  },
  {
   "cell_type": "code",
   "execution_count": 23,
   "metadata": {},
   "outputs": [
    {
     "name": "stdout",
     "output_type": "stream",
     "text": [
      "[[2, 11], [3, 8], [5, 2], [7, 6]]\n"
     ]
    }
   ],
   "source": [
    "# lambda 幫助排序\n",
    "li =[[5,2],[3,8],[2,11],[7,6]]\n",
    "li.sort(key=lambda x:x[0])\n",
    "print(li)"
   ]
  },
  {
   "cell_type": "code",
   "execution_count": 24,
   "metadata": {},
   "outputs": [
    {
     "name": "stdout",
     "output_type": "stream",
     "text": [
      "[[2, 11], [3, 8], [5, 2], [7, 6]]\n"
     ]
    }
   ],
   "source": [
    "#用def寫法\n",
    "def item_key(x):\n",
    "    return x[0]\n",
    "li.sort(key = item_key)\n",
    "print(li)"
   ]
  },
  {
   "cell_type": "code",
   "execution_count": 26,
   "metadata": {},
   "outputs": [
    {
     "name": "stdout",
     "output_type": "stream",
     "text": [
      "'tuple' object does not support item assignment\n"
     ]
    }
   ],
   "source": [
    " #tuple 只讀數組 (記得不能被修改就好！)\n",
    "tp =(1.2,3)\n",
    "try:\n",
    "    tp[0]=100\n",
    "except Exception as e:\n",
    "    print (e)"
   ]
  },
  {
   "cell_type": "code",
   "execution_count": 27,
   "metadata": {},
   "outputs": [
    {
     "name": "stdout",
     "output_type": "stream",
     "text": [
      "{1, 2, 3, 4, 5}\n"
     ]
    }
   ],
   "source": [
    "#set (沒有重複元素)\n",
    "s =set([1,2,2,3,3,4,5,5])\n",
    "print(s)"
   ]
  },
  {
   "cell_type": "code",
   "execution_count": 28,
   "metadata": {},
   "outputs": [
    {
     "name": "stdout",
     "output_type": "stream",
     "text": [
      "{1, 2, 3, 4, 5, 6, 8, 9}\n"
     ]
    }
   ],
   "source": [
    "s= set((1,2,3,4,5,5,5,6,6,8,8,9))\n",
    "print(s)"
   ]
  },
  {
   "cell_type": "code",
   "execution_count": 29,
   "metadata": {},
   "outputs": [
    {
     "name": "stdout",
     "output_type": "stream",
     "text": [
      "v1\n",
      "v1\n",
      "v3\n",
      "v4\n"
     ]
    }
   ],
   "source": [
    "# 字典可以視為一個hash表\n",
    "di ={'k1':'v1','k2':'v1'}\n",
    "di['k3'] = 'v3'\n",
    "di['k4'] = 'v4'\n",
    "\n",
    "for k in di:\n",
    "    print(di[k])"
   ]
  },
  {
   "cell_type": "code",
   "execution_count": 30,
   "metadata": {},
   "outputs": [
    {
     "name": "stdout",
     "output_type": "stream",
     "text": [
      "k1 v1\n",
      "k2 v1\n",
      "k3 v3\n",
      "k4 v4\n"
     ]
    }
   ],
   "source": [
    "for k,v in di.items():\n",
    "    print(k,v)"
   ]
  },
  {
   "cell_type": "code",
   "execution_count": 34,
   "metadata": {},
   "outputs": [
    {
     "name": "stdout",
     "output_type": "stream",
     "text": [
      "[1, 2, 3]\n",
      "[5, 4, 3]\n"
     ]
    }
   ],
   "source": [
    "# 數組切片\n",
    "#[1,2,3,4,5] =>[1,2,3]\n",
    "# =>[3,4]\n",
    "li =[1,2,3,4,5]\n",
    "li_0_2 =li[0:3]\n",
    "print(li_0_2)\n",
    "# [start,end,step]\n",
    "#start 默認是0\n",
    "#end 默認是-1\n",
    "# step默認是1\n",
    "li_last_3 =li[-1:-4:-1]\n",
    "print(li_last_3)"
   ]
  },
  {
   "cell_type": "code",
   "execution_count": 36,
   "metadata": {},
   "outputs": [
    {
     "name": "stdout",
     "output_type": "stream",
     "text": [
      "[5, 4, 3, 2, 1]\n",
      "[4, 3, 2, 1]\n"
     ]
    }
   ],
   "source": [
    "# 直接用切片反轉數組\n",
    "print(li[::-1])\n",
    "print (li[-2::-1])"
   ]
  },
  {
   "cell_type": "code",
   "execution_count": 37,
   "metadata": {},
   "outputs": [
    {
     "name": "stdout",
     "output_type": "stream",
     "text": [
      "[1, 2, 3, 4, 5]\n"
     ]
    }
   ],
   "source": [
    "# by value or reference\n",
    "# 切片是一種複製 (原來的list是不會改變的)\n",
    "li_0_2[-1]= 100\n",
    "print(li)\n"
   ]
  },
  {
   "cell_type": "code",
   "execution_count": 48,
   "metadata": {},
   "outputs": [
    {
     "name": "stdout",
     "output_type": "stream",
     "text": [
      "'str' object does not support item assignment\n"
     ]
    }
   ],
   "source": [
    "# 字串也是一種數組\n",
    "s ='abcdefg'\n",
    "try:\n",
    "    str[0]= 'x'\n",
    "except Exception as e:\n",
    "    print (e)"
   ]
  },
  {
   "cell_type": "code",
   "execution_count": 49,
   "metadata": {},
   "outputs": [
    {
     "name": "stdout",
     "output_type": "stream",
     "text": [
      "xbcdefg\n"
     ]
    }
   ],
   "source": [
    "# 修改字串\n",
    "li = list(s)\n",
    "li[0] ='x'\n",
    "s =''.join(li)\n",
    "print(s)"
   ]
  },
  {
   "cell_type": "code",
   "execution_count": 50,
   "metadata": {},
   "outputs": [
    {
     "name": "stdout",
     "output_type": "stream",
     "text": [
      "x-b-c-d-e-f-g\n"
     ]
    }
   ],
   "source": [
    "s = '-'.join(li)\n",
    "print(s)"
   ]
  },
  {
   "cell_type": "code",
   "execution_count": 52,
   "metadata": {},
   "outputs": [
    {
     "name": "stdout",
     "output_type": "stream",
     "text": [
      "abc def ghi\n"
     ]
    }
   ],
   "source": [
    "# 切割字串\n",
    "s ='abc,def,ghi'\n",
    "p1,p2,p3 = s.split(',')\n",
    "print(p1,p2,p3)"
   ]
  },
  {
   "cell_type": "code",
   "execution_count": 53,
   "metadata": {},
   "outputs": [
    {
     "name": "stdout",
     "output_type": "stream",
     "text": [
      "a g\n",
      "cde\n"
     ]
    }
   ],
   "source": [
    "# 下標訪問和切片\n",
    "s = 'abcdefg'\n",
    "print(s[0],s[-1])\n",
    "print(s[2:5])"
   ]
  },
  {
   "cell_type": "code",
   "execution_count": null,
   "metadata": {
    "collapsed": true
   },
   "outputs": [],
   "source": []
  }
 ],
 "metadata": {
  "kernelspec": {
   "display_name": "Python 3",
   "language": "python",
   "name": "python3"
  },
  "language_info": {
   "codemirror_mode": {
    "name": "ipython",
    "version": 3
   },
   "file_extension": ".py",
   "mimetype": "text/x-python",
   "name": "python",
   "nbconvert_exporter": "python",
   "pygments_lexer": "ipython3",
   "version": "3.6.1"
  }
 },
 "nbformat": 4,
 "nbformat_minor": 2
}
