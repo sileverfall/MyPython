{
 "cells": [
  {
   "cell_type": "code",
   "execution_count": 1,
   "metadata": {
    "collapsed": true
   },
   "outputs": [],
   "source": [
    "#python 自帶\n",
    "import sqlite3"
   ]
  },
  {
   "cell_type": "code",
   "execution_count": 3,
   "metadata": {},
   "outputs": [
    {
     "name": "stdout",
     "output_type": "stream",
     "text": [
      "100 LY\n",
      "200 July\n"
     ]
    }
   ],
   "source": [
    "conn =sqlite3.connect('test.db')\n",
    "create_sql = 'create table company(id int primary key not null,emp_name text not null)'\n",
    "conn.execute(create_sql)\n",
    "insert_sql ='insert into company values(?,?)'\n",
    "conn.execute(insert_sql,(100,'LY'))\n",
    "conn.execute(insert_sql,(200,'July'))\n",
    "cursors = conn.execute('select id, emp_name from company')\n",
    "for row in cursors:\n",
    "    print(row[0],row[1])\n",
    "conn.close()"
   ]
  },
  {
   "cell_type": "markdown",
   "metadata": {},
   "source": [
    " ## MySQL"
   ]
  },
  {
   "cell_type": "code",
   "execution_count": null,
   "metadata": {
    "collapsed": true
   },
   "outputs": [],
   "source": [
    "#hose(ip/port)\n",
    "#username\n",
    "#password"
   ]
  }
 ],
 "metadata": {
  "kernelspec": {
   "display_name": "Python 3",
   "language": "python",
   "name": "python3"
  },
  "language_info": {
   "codemirror_mode": {
    "name": "ipython",
    "version": 3
   },
   "file_extension": ".py",
   "mimetype": "text/x-python",
   "name": "python",
   "nbconvert_exporter": "python",
   "pygments_lexer": "ipython3",
   "version": "3.6.1"
  }
 },
 "nbformat": 4,
 "nbformat_minor": 2
}
