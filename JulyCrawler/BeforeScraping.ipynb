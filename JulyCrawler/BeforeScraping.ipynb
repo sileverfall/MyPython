{
 "cells": [
  {
   "cell_type": "markdown",
   "metadata": {},
   "source": [
    "## JSON "
   ]
  },
  {
   "cell_type": "code",
   "execution_count": 1,
   "metadata": {
    "collapsed": true
   },
   "outputs": [],
   "source": [
    "#方便javascript 處理數據 （類似XML，但比XML更小，更快，更易解析）\n",
    "import json"
   ]
  },
  {
   "cell_type": "code",
   "execution_count": 3,
   "metadata": {},
   "outputs": [
    {
     "data": {
      "text/plain": [
       "'{\\n    \"three\":[1,2,3],\\n    \"one\":1,\\n    \"two\":2\\n}'"
      ]
     },
     "execution_count": 3,
     "metadata": {},
     "output_type": "execute_result"
    }
   ],
   "source": [
    "'''字典不保證元素的順序（隨機）\n",
    "{\n",
    "    \"three\":[1,2,3],\n",
    "    \"one\":1,\n",
    "    \"two\":2\n",
    "}'''"
   ]
  },
  {
   "cell_type": "code",
   "execution_count": 4,
   "metadata": {
    "collapsed": true
   },
   "outputs": [],
   "source": [
    "#json 文件就是一個字典結構\n",
    "obj = {\"one\":1,\"two\":2,\"three\":[1,2,3]}"
   ]
  },
  {
   "cell_type": "code",
   "execution_count": 5,
   "metadata": {
    "collapsed": true
   },
   "outputs": [],
   "source": [
    "#把字典變成字串\n",
    "encoded = json.dumps(obj)"
   ]
  },
  {
   "cell_type": "code",
   "execution_count": 6,
   "metadata": {},
   "outputs": [
    {
     "name": "stdout",
     "output_type": "stream",
     "text": [
      "<class 'str'>\n"
     ]
    }
   ],
   "source": [
    "print(type(encoded))"
   ]
  },
  {
   "cell_type": "code",
   "execution_count": 9,
   "metadata": {},
   "outputs": [
    {
     "name": "stdout",
     "output_type": "stream",
     "text": [
      "{\"one\": 1, \"two\": 2, \"three\": [1, 2, 3]}\n"
     ]
    }
   ],
   "source": [
    "print(encoded)"
   ]
  },
  {
   "cell_type": "code",
   "execution_count": 10,
   "metadata": {
    "collapsed": true
   },
   "outputs": [],
   "source": [
    "# 字串再變回字典\n",
    "decoded = json.loads(encoded)"
   ]
  },
  {
   "cell_type": "code",
   "execution_count": 11,
   "metadata": {},
   "outputs": [
    {
     "name": "stdout",
     "output_type": "stream",
     "text": [
      "<class 'dict'>\n"
     ]
    }
   ],
   "source": [
    "print(type(decoded))"
   ]
  },
  {
   "cell_type": "markdown",
   "metadata": {},
   "source": [
    "## 處理XML"
   ]
  },
  {
   "cell_type": "code",
   "execution_count": 53,
   "metadata": {
    "collapsed": true
   },
   "outputs": [],
   "source": [
    "#DOM\n",
    "#把整个XML讀入内存，解析為樹，因此占用内存大，解析慢，優點是可以任意遍歷樹的節點\n",
    "from xml.dom import minidom"
   ]
  },
  {
   "cell_type": "code",
   "execution_count": 54,
   "metadata": {},
   "outputs": [
    {
     "data": {
      "text/plain": [
       "'<?xml version=\"1.0\"?>\\n<bookstore>\\n    <book>\\n        <title>Harry Potter</title>\\n        <price>29.99</price>\\n    </book>\\n    <book>\\n        <title>Learn XML</title>\\n        <price>75</price>\\n    </book>\\n</bookstore>\\n'"
      ]
     },
     "execution_count": 54,
     "metadata": {},
     "output_type": "execute_result"
    }
   ],
   "source": [
    "'''<?xml version=\"1.0\"?>\n",
    "<bookstore>\n",
    "    <book>\n",
    "        <title>Harry Potter</title>\n",
    "        <price>29.99</price>\n",
    "    </book>\n",
    "    <book>\n",
    "        <title>Learn XML</title>\n",
    "        <price>75</price>\n",
    "    </book>\n",
    "</bookstore>\n",
    "'''"
   ]
  },
  {
   "cell_type": "code",
   "execution_count": 36,
   "metadata": {},
   "outputs": [
    {
     "name": "stdout",
     "output_type": "stream",
     "text": [
      "<class 'xml.dom.minidom.Element'>\n",
      "bookstore\n"
     ]
    }
   ],
   "source": [
    "doc = minidom.parse('book.xml')\n",
    "root = doc.documentElement\n",
    "print(type(root))\n",
    "# 找到根節點\n",
    "print(root.nodeName)"
   ]
  },
  {
   "cell_type": "code",
   "execution_count": 21,
   "metadata": {},
   "outputs": [
    {
     "name": "stdout",
     "output_type": "stream",
     "text": [
      "['ATTRIBUTE_NODE', 'CDATA_SECTION_NODE', 'COMMENT_NODE', 'DOCUMENT_FRAGMENT_NODE', 'DOCUMENT_NODE', 'DOCUMENT_TYPE_NODE', 'ELEMENT_NODE', 'ENTITY_NODE', 'ENTITY_REFERENCE_NODE', 'NOTATION_NODE', 'PROCESSING_INSTRUCTION_NODE', 'TEXT_NODE', '__bool__', '__class__', '__delattr__', '__dict__', '__dir__', '__doc__', '__enter__', '__eq__', '__exit__', '__format__', '__ge__', '__getattribute__', '__gt__', '__hash__', '__init__', '__init_subclass__', '__le__', '__lt__', '__module__', '__ne__', '__new__', '__reduce__', '__reduce_ex__', '__repr__', '__setattr__', '__sizeof__', '__slots__', '__str__', '__subclasshook__', '__weakref__', '_attrs', '_attrsNS', '_call_user_data_handler', '_child_node_types', '_ensure_attributes', '_get_attributes', '_get_childNodes', '_get_firstChild', '_get_lastChild', '_get_localName', '_get_tagName', '_localName', '_magic_id_nodes', 'appendChild', 'attributes', 'childNodes', 'cloneNode', 'firstChild', 'getAttribute', 'getAttributeNS', 'getAttributeNode', 'getAttributeNodeNS', 'getElementsByTagName', 'getElementsByTagNameNS', 'getInterface', 'getUserData', 'hasAttribute', 'hasAttributeNS', 'hasAttributes', 'hasChildNodes', 'insertBefore', 'isSameNode', 'isSupported', 'lastChild', 'localName', 'namespaceURI', 'nextSibling', 'nodeName', 'nodeType', 'nodeValue', 'normalize', 'ownerDocument', 'parentNode', 'prefix', 'previousSibling', 'removeAttribute', 'removeAttributeNS', 'removeAttributeNode', 'removeAttributeNodeNS', 'removeChild', 'replaceChild', 'schemaType', 'setAttribute', 'setAttributeNS', 'setAttributeNode', 'setAttributeNodeNS', 'setIdAttribute', 'setIdAttributeNS', 'setIdAttributeNode', 'setUserData', 'tagName', 'toprettyxml', 'toxml', 'unlink', 'writexml']\n"
     ]
    }
   ],
   "source": [
    "# 查找方法\n",
    "print(dir(root))"
   ]
  },
  {
   "cell_type": "code",
   "execution_count": 49,
   "metadata": {},
   "outputs": [],
   "source": [
    "books= root.getElementsByTagName('book')"
   ]
  },
  {
   "cell_type": "code",
   "execution_count": 52,
   "metadata": {},
   "outputs": [
    {
     "name": "stdout",
     "output_type": "stream",
     "text": [
      "<DOM Element: title at 0x105d49b90> <DOM Element: price at 0x105d49c28>\n",
      "Harry Potter 29.99\n",
      "<DOM Element: title at 0x105d49d58> <DOM Element: price at 0x105d49df0>\n",
      "Learn XML 75\n"
     ]
    }
   ],
   "source": [
    "for book in books:\n",
    "    titles = book.getElementsByTagName('title')\n",
    "    prices = book.getElementsByTagName('price')\n",
    "    print(titles[0],prices[0])\n",
    "    \n",
    "    title = titles[0].childNodes[0].nodeValue\n",
    "    price = prices[0].childNodes[0].nodeValue\n",
    "    print(title,price)"
   ]
  },
  {
   "cell_type": "code",
   "execution_count": 57,
   "metadata": {},
   "outputs": [],
   "source": [
    "# SAX\n",
    "#流模式，邊讀邊解析，占用内存小，解析快，缺点是需要自己處理事件。\n",
    "import string \n",
    "from xml.parsers.expat import ParserCreate"
   ]
  },
  {
   "cell_type": "code",
   "execution_count": 69,
   "metadata": {},
   "outputs": [],
   "source": [
    "class DefaultSaxHandler:\n",
    "    def start_element(self,name,attrs):\n",
    "        self.name = name\n",
    "        print(('element : %s, attrs: %s') % (name, str(attrs)))\n",
    "    def end_element(self,name):\n",
    "        print('end element: %s' % name)\n",
    "    def char_data(self,text):\n",
    "        if text.strip():\n",
    "            print(\"%s's text is %s\" % (self.name,text))"
   ]
  },
  {
   "cell_type": "code",
   "execution_count": 70,
   "metadata": {},
   "outputs": [],
   "source": [
    "handler =DefaultSaxHandler()\n",
    "parser =ParserCreate()\n",
    "parser.StartElementHandler = handler.start_element #<book>\n",
    "parser.EndElementHandler = handler.end_element #<book>\n",
    "parserCharacterDataHandler = handler.char_data #<title>character data </title>"
   ]
  },
  {
   "cell_type": "code",
   "execution_count": 71,
   "metadata": {},
   "outputs": [
    {
     "name": "stdout",
     "output_type": "stream",
     "text": [
      "element : bookstore, attrs: {}\n",
      "element : book, attrs: {}\n",
      "element : title, attrs: {}\n",
      "end element: title\n",
      "element : price, attrs: {}\n",
      "end element: price\n",
      "end element: book\n",
      "element : book, attrs: {}\n",
      "element : title, attrs: {}\n",
      "end element: title\n",
      "element : price, attrs: {}\n",
      "end element: price\n",
      "end element: book\n",
      "end element: bookstore\n"
     ]
    }
   ],
   "source": [
    "with open('book.xml','r') as f:\n",
    "    parser.Parse(f.read())"
   ]
  },
  {
   "cell_type": "code",
   "execution_count": null,
   "metadata": {
    "collapsed": true
   },
   "outputs": [],
   "source": []
  }
 ],
 "metadata": {
  "kernelspec": {
   "display_name": "Python 3",
   "language": "python",
   "name": "python3"
  },
  "language_info": {
   "codemirror_mode": {
    "name": "ipython",
    "version": 3
   },
   "file_extension": ".py",
   "mimetype": "text/x-python",
   "name": "python",
   "nbconvert_exporter": "python",
   "pygments_lexer": "ipython3",
   "version": "3.6.1"
  }
 },
 "nbformat": 4,
 "nbformat_minor": 2
}
