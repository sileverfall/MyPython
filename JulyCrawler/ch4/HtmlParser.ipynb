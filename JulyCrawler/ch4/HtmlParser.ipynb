{
 "cells": [
  {
   "cell_type": "code",
   "execution_count": 2,
   "metadata": {
    "scrolled": true
   },
   "outputs": [
    {
     "name": "stdout",
     "output_type": "stream",
     "text": [
      "Collecting HTMLParser\n",
      "  Downloading HTMLParser-0.0.2.tar.gz\n",
      "Building wheels for collected packages: HTMLParser\n",
      "  Running setup.py bdist_wheel for HTMLParser ... \u001b[?25ldone\n",
      "\u001b[?25h  Stored in directory: /Users/Wan_Ning/Library/Caches/pip/wheels/45/c6/28/0798e85dc732bad97e44033e85be73a8945f3e4b36511d6247\n",
      "Successfully built HTMLParser\n",
      "Installing collected packages: HTMLParser\n",
      "Successfully installed HTMLParser-0.0.2\n"
     ]
    }
   ],
   "source": [
    "!pip3 install HTMLParser"
   ]
  },
  {
   "cell_type": "code",
   "execution_count": 5,
   "metadata": {},
   "outputs": [
    {
     "name": "stdout",
     "output_type": "stream",
     "text": [
      "micropython-_markupbase (3.3.3-1)  - CPython _markupbase module ported to\r\n",
      "                                     MicroPython\r\n"
     ]
    }
   ],
   "source": [
    "!pip3 search markupbase"
   ]
  },
  {
   "cell_type": "code",
   "execution_count": 11,
   "metadata": {},
   "outputs": [],
   "source": [
    "from HTMLParser import HTMLParser"
   ]
  },
  {
   "cell_type": "code",
   "execution_count": 6,
   "metadata": {},
   "outputs": [
    {
     "name": "stdout",
     "output_type": "stream",
     "text": [
      "['', '/usr/local/Cellar/python3/3.6.1/Frameworks/Python.framework/Versions/3.6/lib/python36.zip', '/usr/local/Cellar/python3/3.6.1/Frameworks/Python.framework/Versions/3.6/lib/python3.6', '/usr/local/Cellar/python3/3.6.1/Frameworks/Python.framework/Versions/3.6/lib/python3.6/lib-dynload', '/usr/local/lib/python3.6/site-packages', '/usr/local/lib/python3.6/site-packages/IPython/extensions', '/Users/Wan_Ning/.ipython']\n"
     ]
    }
   ],
   "source": [
    "import sys\n",
    "print (sys.path)"
   ]
  },
  {
   "cell_type": "code",
   "execution_count": 16,
   "metadata": {},
   "outputs": [
    {
     "name": "stdout",
     "output_type": "stream",
     "text": [
      "<html>\n",
      "<head>\n",
      "<title>\n",
      "dat Test\n",
      "<title>\n",
      "<head>\n",
      "<body>\n",
      "<h1>\n",
      "dat Parse me!\n",
      "<h1>\n",
      "<body>\n",
      "<html>\n",
      "Close\n"
     ]
    }
   ],
   "source": [
    "class MyParser(HTMLParser):\n",
    "    def handle_decl(self,decl):\n",
    "        HTMLParser.handle_decl(self,decl)\n",
    "        print('decl $s' % decl)\n",
    "    \n",
    "    def handle_starttag(self,tag,attrs):\n",
    "        HTMLParser.handle_starttag(self,tag,attrs)\n",
    "        print('<'+tag+'>')\n",
    "    \n",
    "    def handle_endtag(self,tag):\n",
    "        HTMLParser.handle_endtag(self,tag)\n",
    "        print('<'+tag+'>')\n",
    "    def handle_data (self,data):\n",
    "        HTMLParser.handle_data(self,data)\n",
    "        print('dat %s'%data)\n",
    "    \n",
    "    #<br/>\n",
    "    def handle_startendtag(self,tag,attrs):\n",
    "        HTMLParser.handle_startendtag(self,tag,attrs)\n",
    "    \n",
    "    def handle_commit(self,data):\n",
    "        HTMLParser.handle_commit(self,data)\n",
    "        print('dat %s'%data)\n",
    "    def close(self):\n",
    "        HTMLParser.close(self)\n",
    "        print(\"Close\")\n",
    "    \n",
    "demo = MyParser()\n",
    "demo.feed('<html><head><title>Test</title></head>'\n",
    "            '<body><h1>Parse me!</h1></body></html>')\n",
    "demo.close()"
   ]
  },
  {
   "cell_type": "code",
   "execution_count": null,
   "metadata": {
    "collapsed": true
   },
   "outputs": [],
   "source": []
  }
 ],
 "metadata": {
  "kernelspec": {
   "display_name": "Python 3",
   "language": "python",
   "name": "python3"
  },
  "language_info": {
   "codemirror_mode": {
    "name": "ipython",
    "version": 3
   },
   "file_extension": ".py",
   "mimetype": "text/x-python",
   "name": "python",
   "nbconvert_exporter": "python",
   "pygments_lexer": "ipython3",
   "version": "3.6.1"
  }
 },
 "nbformat": 4,
 "nbformat_minor": 2
}
