{
 "cells": [
  {
   "cell_type": "code",
   "execution_count": 1,
   "metadata": {
    "collapsed": true
   },
   "outputs": [],
   "source": [
    "import requests"
   ]
  },
  {
   "cell_type": "code",
   "execution_count": 2,
   "metadata": {},
   "outputs": [
    {
     "name": "stdout",
     "output_type": "stream",
     "text": [
      "200\n"
     ]
    }
   ],
   "source": [
    "url = 'http://www.baidu.com'\n",
    "r = requests.get(url)\n",
    "print(r.status_code)"
   ]
  },
  {
   "cell_type": "code",
   "execution_count": 6,
   "metadata": {},
   "outputs": [
    {
     "name": "stdout",
     "output_type": "stream",
     "text": [
      "<!DOCTYPE html>\r\n",
      "<!--STATUS OK--><html> <head><meta http-equiv=content-type content=text/html;charset=utf-8><meta http-equiv=X-UA-Compatible content=IE=Edge><meta content=always name=referrer><link rel=stylesheet type=text/css href=http://s1.bdstatic.com/r/www/cache/bdorz/baidu.min.css><title>ç¾åº¦ä¸ä¸ï¼ä½ å°±ç¥é</title></head> <body link=#0000cc> <div id=wrapper> <div id=head> <div class=head_wrapper> <div class=s_form> <div class=s_form_wrapper> <div id=lg> <img hidefocus=true src=//www.baidu.com/img/bd_logo1.png width=270 height=129> </div> <form id=form name=f action=//www.baidu.com/s class=fm> <input type=hidden name=bdorz_come value=1> <input type=hidden name=ie value=utf-8> <input type=hidden name=f value=8> <input type=hidden name=rsv_bp value=1> <input type=hidden name=rsv_idx value=1> <input type=hidden name=tn value=baidu><span class=\"bg s_ipt_wr\"><input id=kw name=wd class=s_ipt value maxlength=255 autocomplete=off autofocus></span><span class=\"bg s_btn_wr\"><input type=submit id=su value=ç¾åº¦ä¸ä¸ class=\"bg s_btn\"></span> </form> </div> </div> <div id=u1> <a href=http://news.baidu.com name=tj_trnews class=mnav>æ°é»</a> <a href=http://www.hao123.com name=tj_trhao123 class=mnav>hao123</a> <a href=http://map.baidu.com name=tj_trmap class=mnav>å°å¾</a> <a href=http://v.baidu.com name=tj_trvideo class=mnav>è§é¢</a> <a href=http://tieba.baidu.com name=tj_trtieba class=mnav>è´´å§</a> <noscript> <a href=http://www.baidu.com/bdorz/login.gif?login&amp;tpl=mn&amp;u=http%3A%2F%2Fwww.baidu.com%2f%3fbdorz_come%3d1 name=tj_login class=lb>ç»å½</a> </noscript> <script>document.write('<a href=\"http://www.baidu.com/bdorz/login.gif?login&tpl=mn&u='+ encodeURIComponent(window.location.href+ (window.location.search === \"\" ? \"?\" : \"&\")+ \"bdorz_come=1\")+ '\" name=\"tj_login\" class=\"lb\">ç»å½</a>');</script> <a href=//www.baidu.com/more/ name=tj_briicon class=bri style=\"display: block;\">æ´å¤äº§å</a> </div> </div> </div> <div id=ftCon> <div id=ftConw> <p id=lh> <a href=http://home.baidu.com>å",
      "³äºç¾åº¦</a> <a href=http://ir.baidu.com>About Baidu</a> </p> <p id=cp>&copy;2017&nbsp;Baidu&nbsp;<a href=http://www.baidu.com/duty/>ä½¿ç¨ç¾åº¦åå¿",
      "è¯»</a>&nbsp; <a href=http://jianyi.baidu.com/ class=cp-feedback>æè§åé¦</a>&nbsp;äº¬ICPè¯030173å·&nbsp; <img src=//www.baidu.com/img/gs.gif> </p> </div> </div> </div> </body> </html>\r\n",
      "\n"
     ]
    }
   ],
   "source": [
    "print(r.text)"
   ]
  },
  {
   "cell_type": "code",
   "execution_count": 5,
   "metadata": {},
   "outputs": [
    {
     "name": "stdout",
     "output_type": "stream",
     "text": [
      "ISO-8859-1\n"
     ]
    }
   ],
   "source": [
    "print(r.encoding)"
   ]
  },
  {
   "cell_type": "code",
   "execution_count": 7,
   "metadata": {},
   "outputs": [
    {
     "name": "stdout",
     "output_type": "stream",
     "text": [
      "http://httpbin.org/get?k1=v1&k2=v2\n"
     ]
    }
   ],
   "source": [
    "# 傳遞參數：  不如http://xxx/aa=bb=&cc=dd\n",
    "params ={'k1':'v1','k2':'v2'}\n",
    "r =requests.get('http://httpbin.org/get',params)\n",
    "print(r.url)"
   ]
  },
  {
   "cell_type": "code",
   "execution_count": 8,
   "metadata": {},
   "outputs": [
    {
     "name": "stdout",
     "output_type": "stream",
     "text": [
      "http://httpbin.org/get?k1=v1&k2=1&k2=2&k2=3\n"
     ]
    }
   ],
   "source": [
    "params ={'k1':'v1','k2':[1,2,3]}\n",
    "r =requests.get('http://httpbin.org/get',params)\n",
    "print(r.url)"
   ]
  },
  {
   "cell_type": "code",
   "execution_count": 15,
   "metadata": {},
   "outputs": [],
   "source": [
    "from io import BytesIO\n",
    "from PIL import Image"
   ]
  },
  {
   "cell_type": "code",
   "execution_count": 14,
   "metadata": {},
   "outputs": [
    {
     "name": "stdout",
     "output_type": "stream",
     "text": [
      "Collecting Image\n",
      "  Downloading image-1.5.9-py2.py3-none-any.whl\n",
      "Collecting django (from Image)\n",
      "  Downloading Django-1.11.3-py2.py3-none-any.whl (6.9MB)\n",
      "\u001b[K    100% |████████████████████████████████| 7.0MB 172kB/s ta 0:00:011  1% |▋                               | 122kB 300kB/s eta 0:00:23    22% |███████▎                        | 1.6MB 6.3MB/s eta 0:00:01\n",
      "\u001b[?25hCollecting pillow (from Image)\n",
      "  Downloading Pillow-4.2.1-cp36-cp36m-macosx_10_6_intel.macosx_10_9_intel.macosx_10_9_x86_64.macosx_10_10_intel.macosx_10_10_x86_64.whl (3.5MB)\n",
      "\u001b[K    100% |████████████████████████████████| 3.5MB 331kB/s ta 0:00:011\n",
      "\u001b[?25hCollecting pytz (from django->Image)\n",
      "  Downloading pytz-2017.2-py2.py3-none-any.whl (484kB)\n",
      "\u001b[K    100% |████████████████████████████████| 491kB 2.2MB/s eta 0:00:01\n",
      "\u001b[?25hCollecting olefile (from pillow->Image)\n",
      "  Downloading olefile-0.44.zip (74kB)\n",
      "\u001b[K    100% |████████████████████████████████| 81kB 4.2MB/s ta 0:00:011\n",
      "\u001b[?25hBuilding wheels for collected packages: olefile\n",
      "  Running setup.py bdist_wheel for olefile ... \u001b[?25ldone\n",
      "\u001b[?25h  Stored in directory: /Users/Wan_Ning/Library/Caches/pip/wheels/20/58/49/cc7bd00345397059149a10b0259ef38b867935ea2ecff99a9b\n",
      "Successfully built olefile\n",
      "Installing collected packages: pytz, django, olefile, pillow, Image\n",
      "Successfully installed Image-1.5.9 django-1.11.3 olefile-0.44 pillow-4.2.1 pytz-2017.2\n"
     ]
    }
   ],
   "source": [
    "! pip3 install Image"
   ]
  },
  {
   "cell_type": "code",
   "execution_count": 29,
   "metadata": {
    "collapsed": true
   },
   "outputs": [],
   "source": [
    "# 二進制數據\n",
    "r =requests.get('http://cdn2.ettoday.net/images/277/277812.jpg')\n",
    "image =Image.open(BytesIO(r.content))\n",
    "image.save('ning.jpg')"
   ]
  },
  {
   "cell_type": "code",
   "execution_count": 21,
   "metadata": {},
   "outputs": [
    {
     "name": "stdout",
     "output_type": "stream",
     "text": [
      "<class 'method'>\n",
      "<bound method Response.json of <Response [410]>>\n",
      "{\"message\":\"Hello there, wayfaring stranger. If you’re reading this then you probably didn’t see our blog post a couple of years back announcing that this API would go away: http://git.io/17AROg Fear not, you should be able to get what you need from the shiny new Events API instead.\",\"documentation_url\":\"https://developer.github.com/v3/activity/events/#list-public-events\"}\n"
     ]
    }
   ],
   "source": [
    "# json 處理\n",
    "r = requests.get('https://github.com/timeline.json')\n",
    "print(type(r.json))\n",
    "print(r.json)\n",
    "print(r.text)"
   ]
  },
  {
   "cell_type": "code",
   "execution_count": 28,
   "metadata": {},
   "outputs": [],
   "source": [
    "# 原始數據處理\n",
    "r = requests.get ('https://s3.yimg.com/bt/api/res/1.2/Zfbc1M8OiTBFfXSor43dRA--/YXBwaWQ9eW5ld3M7cT04NTt3PTQ1MA--/http://media.zenfs.com/zh_TW/News/beautygirl/20140513121711_hanaco_lan_109816.jpg')\n",
    "with open('ning2.jpg','wb+') as f:\n",
    "    for chunk in r.iter_content(1024):\n",
    "        f.write(chunk)"
   ]
  },
  {
   "cell_type": "code",
   "execution_count": 37,
   "metadata": {
    "scrolled": true
   },
   "outputs": [
    {
     "name": "stdout",
     "output_type": "stream",
     "text": [
      "{\n",
      "  \"args\": {}, \n",
      "  \"data\": \"\", \n",
      "  \"files\": {}, \n",
      "  \"form\": {\n",
      "    \"password\": \"pass\", \n",
      "    \"username\": \"user\"\n",
      "  }, \n",
      "  \"headers\": {\n",
      "    \"Accept\": \"*/*\", \n",
      "    \"Accept-Encoding\": \"gzip, deflate\", \n",
      "    \"Connection\": \"close\", \n",
      "    \"Content-Length\": \"27\", \n",
      "    \"Content-Type\": \"application/x-www-form-urlencoded\", \n",
      "    \"Host\": \"httpbin.org\", \n",
      "    \"User-Agent\": \"python-requests/2.18.1\"\n",
      "  }, \n",
      "  \"json\": null, \n",
      "  \"origin\": \"140.115.153.232\", \n",
      "  \"url\": \"http://httpbin.org/post\"\n",
      "}\n",
      "\n"
     ]
    }
   ],
   "source": [
    "# 提交表單\n",
    "form ={'username':'user','password':'pass'}\n",
    "r =requests.post('http://httpbin.org/post',data =form)\n",
    "print(r.text)\n"
   ]
  },
  {
   "cell_type": "code",
   "execution_count": 45,
   "metadata": {
    "scrolled": true
   },
   "outputs": [
    {
     "name": "stdout",
     "output_type": "stream",
     "text": [
      "{\n",
      "  \"args\": {}, \n",
      "  \"data\": \"{\\\"username\\\": \\\"user\\\", \\\"password\\\": \\\"pass\\\"}\", \n",
      "  \"files\": {}, \n",
      "  \"form\": {}, \n",
      "  \"headers\": {\n",
      "    \"Accept\": \"*/*\", \n",
      "    \"Accept-Encoding\": \"gzip, deflate\", \n",
      "    \"Connection\": \"close\", \n",
      "    \"Content-Length\": \"40\", \n",
      "    \"Host\": \"httpbin.org\", \n",
      "    \"User-Agent\": \"python-requests/2.18.1\"\n",
      "  }, \n",
      "  \"json\": {\n",
      "    \"password\": \"pass\", \n",
      "    \"username\": \"user\"\n",
      "  }, \n",
      "  \"origin\": \"140.115.153.232\", \n",
      "  \"url\": \"http://httpbin.org/post\"\n",
      "}\n",
      "\n"
     ]
    }
   ],
   "source": [
    "import json\n",
    "form1 ={'username':'user','password':'pass'}\n",
    "r = requests.post('http://httpbin.org/post',data=json.dumps(form1))\n",
    "print(r.text)"
   ]
  },
  {
   "cell_type": "code",
   "execution_count": 48,
   "metadata": {},
   "outputs": [
    {
     "name": "stdout",
     "output_type": "stream",
     "text": [
      "NID 108=lbLT5B1otOxzXPxocXLCBLb2wJd-pt0FsF7SBFZQo1RTbbZwBcu2Zd76z94QAcRCwgwp2XzxytHDBnSm5Wk9r2dAadSoH2wLai53Ej2yPp5aZZxlUSDbXK8QbR4ve9j6\n"
     ]
    }
   ],
   "source": [
    "#cookie\n",
    "url = 'http://www.google.com'\n",
    "r = requests.get(url)\n",
    "cookies = r.cookies\n",
    "for k ,v in cookies.get_dict().items():\n",
    "    print(k,v)"
   ]
  },
  {
   "cell_type": "code",
   "execution_count": 50,
   "metadata": {},
   "outputs": [
    {
     "name": "stdout",
     "output_type": "stream",
     "text": [
      "{\n",
      "  \"cookies\": {\n",
      "    \"c1\": \"v1\", \n",
      "    \"c2\": \"v2\"\n",
      "  }\n",
      "}\n",
      "\n"
     ]
    }
   ],
   "source": [
    "cookies = {'c1':'v1','c2':'v2'}\n",
    "r =requests.get('http://httpbin.org/cookies',cookies =cookies)\n",
    "print(r.text)"
   ]
  },
  {
   "cell_type": "code",
   "execution_count": 53,
   "metadata": {},
   "outputs": [
    {
     "name": "stdout",
     "output_type": "stream",
     "text": [
      "https://github.com/\n",
      "200\n",
      "[<Response [301]>]\n"
     ]
    }
   ],
   "source": [
    "# 重定向和重定向歷史\n",
    "r = requests.head('http://github.com', allow_redirects = True)\n",
    "print(r.url)\n",
    "print(r.status_code)\n",
    "print(r.history)"
   ]
  },
  {
   "cell_type": "code",
   "execution_count": null,
   "metadata": {
    "collapsed": true
   },
   "outputs": [],
   "source": []
  }
 ],
 "metadata": {
  "kernelspec": {
   "display_name": "Python 3",
   "language": "python",
   "name": "python3"
  },
  "language_info": {
   "codemirror_mode": {
    "name": "ipython",
    "version": 3
   },
   "file_extension": ".py",
   "mimetype": "text/x-python",
   "name": "python",
   "nbconvert_exporter": "python",
   "pygments_lexer": "ipython3",
   "version": "3.6.1"
  }
 },
 "nbformat": 4,
 "nbformat_minor": 2
}
