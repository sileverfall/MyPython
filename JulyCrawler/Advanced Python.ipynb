{
 "cells": [
  {
   "cell_type": "markdown",
   "metadata": {},
   "source": [
    "## OOD （面向對象）"
   ]
  },
  {
   "cell_type": "code",
   "execution_count": 1,
   "metadata": {},
   "outputs": [
    {
     "name": "stdout",
     "output_type": "stream",
     "text": [
      "<class 'list'>\n",
      "<class 'str'>\n",
      "<class 'dict'>\n"
     ]
    }
   ],
   "source": [
    "#用type 查看對象類型\n",
    "print(type ([1,2,3,4]))\n",
    "print(type (\"abcd\"))\n",
    "print(type({1:2,2:3}))"
   ]
  },
  {
   "cell_type": "code",
   "execution_count": 2,
   "metadata": {},
   "outputs": [
    {
     "name": "stdout",
     "output_type": "stream",
     "text": [
      "['__add__', '__class__', '__contains__', '__delattr__', '__delitem__', '__dir__', '__doc__', '__eq__', '__format__', '__ge__', '__getattribute__', '__getitem__', '__gt__', '__hash__', '__iadd__', '__imul__', '__init__', '__init_subclass__', '__iter__', '__le__', '__len__', '__lt__', '__mul__', '__ne__', '__new__', '__reduce__', '__reduce_ex__', '__repr__', '__reversed__', '__rmul__', '__setattr__', '__setitem__', '__sizeof__', '__str__', '__subclasshook__', 'append', 'clear', 'copy', 'count', 'extend', 'index', 'insert', 'pop', 'remove', 'reverse', 'sort']\n"
     ]
    }
   ],
   "source": [
    "# 用dir查看屬性和方法\n",
    "print(dir(list))"
   ]
  },
  {
   "cell_type": "code",
   "execution_count": 15,
   "metadata": {},
   "outputs": [
    {
     "name": "stdout",
     "output_type": "stream",
     "text": [
      "<class 'type'>\n",
      "100 200\n"
     ]
    }
   ],
   "source": [
    "class Clazz(object):\n",
    "    #self 參考this(java)\n",
    "    # __init__ 前後都是雙短橫線\n",
    "    def __init__(self,x,y):\n",
    "        self.x = x\n",
    "        self.y = y\n",
    "     #聲明成員函數時，第一個參數一定要self   \n",
    "    def display(self):\n",
    "        print(self.x,self.y)\n",
    "        \n",
    "print(type(Clazz))\n",
    "\n",
    "clz = Clazz(100,200)\n",
    "clz.display() # display(clz)\n",
    "\n",
    "        "
   ]
  },
  {
   "cell_type": "code",
   "execution_count": 17,
   "metadata": {},
   "outputs": [
    {
     "name": "stdout",
     "output_type": "stream",
     "text": [
      "Tom::run\n",
      "R1::run\n",
      "R2::run\n"
     ]
    }
   ],
   "source": [
    "# 繼承\n",
    "class Base:\n",
    "    def run (self):\n",
    "        print('Base::run')\n",
    "class Tom(Base):\n",
    "    def run(self):\n",
    "        print('Tom::run')\n",
    "\n",
    "t =Tom()\n",
    "# 判斷是否為基類類型\n",
    "t.run()\n",
    "\n",
    "# R1 R2 沒有繼承關係，但只要會游泳都是鴨子\n",
    "def run(runner):\n",
    "    runner.run()\n",
    "\n",
    "class R1:\n",
    "    def run(self):\n",
    "        print('R1::run')\n",
    "\n",
    "class R2:\n",
    "    def run(self):\n",
    "        print('R2::run')\n",
    "\n",
    "run(R1())\n",
    "run(R2())\n"
   ]
  },
  {
   "cell_type": "markdown",
   "metadata": {},
   "source": [
    "## IO"
   ]
  },
  {
   "cell_type": "code",
   "execution_count": 23,
   "metadata": {},
   "outputs": [
    {
     "name": "stdout",
     "output_type": "stream",
     "text": [
      "aaa\n",
      "\n",
      "bbb\n",
      "\n",
      "ccc\n"
     ]
    }
   ],
   "source": [
    "f =open('test.txt','r')\n",
    "#print(f.read())\n",
    "\n",
    "\n",
    "for line in f.readlines():\n",
    "    print(line)\n"
   ]
  },
  {
   "cell_type": "code",
   "execution_count": 25,
   "metadata": {},
   "outputs": [
    {
     "name": "stdout",
     "output_type": "stream",
     "text": [
      "['_CHUNK_SIZE', '__class__', '__del__', '__delattr__', '__dict__', '__dir__', '__doc__', '__enter__', '__eq__', '__exit__', '__format__', '__ge__', '__getattribute__', '__getstate__', '__gt__', '__hash__', '__init__', '__init_subclass__', '__iter__', '__le__', '__lt__', '__ne__', '__new__', '__next__', '__reduce__', '__reduce_ex__', '__repr__', '__setattr__', '__sizeof__', '__str__', '__subclasshook__', '_checkClosed', '_checkReadable', '_checkSeekable', '_checkWritable', '_finalizing', 'buffer', 'close', 'closed', 'detach', 'encoding', 'errors', 'fileno', 'flush', 'isatty', 'line_buffering', 'mode', 'name', 'newlines', 'read', 'readable', 'readline', 'readlines', 'seek', 'seekable', 'tell', 'truncate', 'writable', 'write', 'writelines']\n",
      "aaa\n",
      "\n",
      "bbb\n",
      "\n",
      "ccc\n"
     ]
    }
   ],
   "source": [
    "with open('test.txt') as f:\n",
    "    print(dir(f))\n",
    "    for line in f.readlines():\n",
    "        print(line)"
   ]
  },
  {
   "cell_type": "code",
   "execution_count": 26,
   "metadata": {},
   "outputs": [
    {
     "name": "stdout",
     "output_type": "stream",
     "text": [
      "b'aaa\\nbbb\\nccc'\n"
     ]
    }
   ],
   "source": [
    "# 當作二進制文件\n",
    "with open('test.txt','rb') as f:\n",
    "    print(f.read())"
   ]
  },
  {
   "cell_type": "markdown",
   "metadata": {},
   "source": [
    "## 多線程"
   ]
  },
  {
   "cell_type": "code",
   "execution_count": 31,
   "metadata": {},
   "outputs": [
    {
     "name": "stdout",
     "output_type": "stream",
     "text": [
      "10000\n",
      "\n",
      "10000\n",
      "\n",
      "10000\n",
      "10000\n",
      "\n",
      "\n",
      "10000\n",
      "\n"
     ]
    }
   ],
   "source": [
    "import threading\n",
    "\n",
    "def thread_func(x):\n",
    "    print('%d\\n' % (x*100))\n",
    "\n",
    "threads=[]\n",
    "\n",
    "for i in range(5): #五個線程併發會互相干擾\n",
    "    threads.append (threading.Thread(target = thread_func,args =(100,)))\n",
    "\n",
    "for thread in threads:\n",
    "    thread.start()\n",
    "\n",
    "for thread in threads:\n",
    "    thread.join()"
   ]
  },
  {
   "cell_type": "markdown",
   "metadata": {},
   "source": [
    "## 錯誤處理"
   ]
  },
  {
   "cell_type": "code",
   "execution_count": 33,
   "metadata": {},
   "outputs": [
    {
     "name": "stdout",
     "output_type": "stream",
     "text": [
      "<class 'ZeroDivisionError'>\n",
      "division by zero\n",
      "Always come here\n"
     ]
    }
   ],
   "source": [
    "import logging\n",
    "'''\n",
    "logging.info(...)\n",
    "logging.debug(...)\n",
    "'''\n",
    "\n",
    "try:\n",
    "    r =10/0\n",
    "except ZeroDivisionError as e: #捕捉異常\n",
    "    print(type(e))\n",
    "    print(e)\n",
    "finally: #防止資源洩漏 \n",
    "    print('Always come here')"
   ]
  },
  {
   "cell_type": "code",
   "execution_count": null,
   "metadata": {
    "collapsed": true
   },
   "outputs": [],
   "source": []
  }
 ],
 "metadata": {
  "kernelspec": {
   "display_name": "Python 3",
   "language": "python",
   "name": "python3"
  },
  "language_info": {
   "codemirror_mode": {
    "name": "ipython",
    "version": 3
   },
   "file_extension": ".py",
   "mimetype": "text/x-python",
   "name": "python",
   "nbconvert_exporter": "python",
   "pygments_lexer": "ipython3",
   "version": "3.6.1"
  }
 },
 "nbformat": 4,
 "nbformat_minor": 2
}
