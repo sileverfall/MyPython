{
 "cells": [
  {
   "cell_type": "code",
   "execution_count": 28,
   "metadata": {
    "collapsed": true
   },
   "outputs": [],
   "source": [
    "import scrapy"
   ]
  },
  {
   "cell_type": "code",
   "execution_count": 33,
   "metadata": {},
   "outputs": [],
   "source": [
    "class FoodpttSpider(scrapy.Spider):\n",
    "    name = 'Foodptt'\n",
    "    start_urls = ['https://www.ptt.cc/bbs/Food/index6082.html']\n",
    "    \n",
    "    def parse(self,response):\n",
    "        for Food_ptt in response.xpath('//div[@class =\"r-ent\"]'):\n",
    "            #//*[@id=\"main-container\"]/div[2]/div[1]/div[3]\n",
    "            #//*[@id=\"main-container\"]/div[2]/div[1]/div[3]/a\n",
    "            # //*[@id=\"main-container\"]/div[2]/div[1]/div[3]\n",
    "            print (Food_ptt.xpath('div[@class =\"title\"]/text()')).extract()\n",
    "            \n",
    "            yield{'title':Food_ptt.xpath('div[@class =\"title\"]/text()').extract()}"
   ]
  },
  {
   "cell_type": "code",
   "execution_count": 34,
   "metadata": {
    "scrolled": true
   },
   "outputs": [
    {
     "name": "stdout",
     "output_type": "stream",
     "text": [
      "2017-07-30 20:30:03 [scrapy.utils.log] INFO: Scrapy 1.4.0 started (bot: scrapybot)\n",
      "2017-07-30 20:30:03 [scrapy.utils.log] INFO: Overridden settings: {'FEED_FORMAT': 'json', 'FEED_URI': 'Food_ptt.json', 'SPIDER_LOADER_WARN_ONLY': True}\n",
      "2017-07-30 20:30:04 [scrapy.middleware] INFO: Enabled extensions:\n",
      "['scrapy.extensions.corestats.CoreStats',\n",
      " 'scrapy.extensions.telnet.TelnetConsole',\n",
      " 'scrapy.extensions.memusage.MemoryUsage',\n",
      " 'scrapy.extensions.feedexport.FeedExporter',\n",
      " 'scrapy.extensions.logstats.LogStats']\n",
      "2017-07-30 20:30:04 [scrapy.middleware] INFO: Enabled downloader middlewares:\n",
      "['scrapy.downloadermiddlewares.httpauth.HttpAuthMiddleware',\n",
      " 'scrapy.downloadermiddlewares.downloadtimeout.DownloadTimeoutMiddleware',\n",
      " 'scrapy.downloadermiddlewares.defaultheaders.DefaultHeadersMiddleware',\n",
      " 'scrapy.downloadermiddlewares.useragent.UserAgentMiddleware',\n",
      " 'scrapy.downloadermiddlewares.retry.RetryMiddleware',\n",
      " 'scrapy.downloadermiddlewares.redirect.MetaRefreshMiddleware',\n",
      " 'scrapy.downloadermiddlewares.httpcompression.HttpCompressionMiddleware',\n",
      " 'scrapy.downloadermiddlewares.redirect.RedirectMiddleware',\n",
      " 'scrapy.downloadermiddlewares.cookies.CookiesMiddleware',\n",
      " 'scrapy.downloadermiddlewares.httpproxy.HttpProxyMiddleware',\n",
      " 'scrapy.downloadermiddlewares.stats.DownloaderStats']\n",
      "2017-07-30 20:30:04 [scrapy.middleware] INFO: Enabled spider middlewares:\n",
      "['scrapy.spidermiddlewares.httperror.HttpErrorMiddleware',\n",
      " 'scrapy.spidermiddlewares.offsite.OffsiteMiddleware',\n",
      " 'scrapy.spidermiddlewares.referer.RefererMiddleware',\n",
      " 'scrapy.spidermiddlewares.urllength.UrlLengthMiddleware',\n",
      " 'scrapy.spidermiddlewares.depth.DepthMiddleware']\n",
      "2017-07-30 20:30:04 [scrapy.middleware] INFO: Enabled item pipelines:\n",
      "[]\n",
      "2017-07-30 20:30:04 [scrapy.core.engine] INFO: Spider opened\n",
      "2017-07-30 20:30:04 [scrapy.extensions.logstats] INFO: Crawled 0 pages (at 0 pages/min), scraped 0 items (at 0 items/min)\n",
      "2017-07-30 20:30:04 [scrapy.extensions.telnet] DEBUG: Telnet console listening on 127.0.0.1:6023\n",
      "2017-07-30 20:30:04 [scrapy.core.engine] DEBUG: Crawled (200) <GET https://www.ptt.cc/bbs/Food/index.html> (referer: None)\n",
      "[<Selector xpath='div[@class =\"title\"]/text()' data='\\n\\t\\t\\t\\n\\t\\t\\t\\t'>, <Selector xpath='div[@class =\"title\"]/text()' data='\\n\\t\\t\\t\\n\\t\\t\\t'>]\n",
      "2017-07-30 20:30:04 [scrapy.core.scraper] ERROR: Spider error processing <GET https://www.ptt.cc/bbs/Food/index.html> (referer: None)\n",
      "Traceback (most recent call last):\n",
      "  File \"/usr/local/lib/python3.6/site-packages/scrapy/utils/defer.py\", line 102, in iter_errback\n",
      "    yield next(it)\n",
      "  File \"/usr/local/lib/python3.6/site-packages/scrapy/spidermiddlewares/offsite.py\", line 29, in process_spider_output\n",
      "    for x in result:\n",
      "  File \"/usr/local/lib/python3.6/site-packages/scrapy/spidermiddlewares/referer.py\", line 339, in <genexpr>\n",
      "    return (_set_referer(r) for r in result or ())\n",
      "  File \"/usr/local/lib/python3.6/site-packages/scrapy/spidermiddlewares/urllength.py\", line 37, in <genexpr>\n",
      "    return (r for r in result or () if _filter(r))\n",
      "  File \"/usr/local/lib/python3.6/site-packages/scrapy/spidermiddlewares/depth.py\", line 58, in <genexpr>\n",
      "    return (r for r in result or () if _filter(r))\n",
      "  File \"/Users/Wan_Ning/Documents/learning/MyPython/JulyCrawler/Food_ptt.py\", line 12, in parse\n",
      "    print (Food_ptt.xpath('div[@class =\"title\"]/text()')).extract()\n",
      "AttributeError: 'NoneType' object has no attribute 'extract'\n",
      "2017-07-30 20:30:04 [scrapy.core.engine] INFO: Closing spider (finished)\n",
      "2017-07-30 20:30:04 [scrapy.statscollectors] INFO: Dumping Scrapy stats:\n",
      "{'downloader/request_bytes': 227,\n",
      " 'downloader/request_count': 1,\n",
      " 'downloader/request_method_count/GET': 1,\n",
      " 'downloader/response_bytes': 2991,\n",
      " 'downloader/response_count': 1,\n",
      " 'downloader/response_status_count/200': 1,\n",
      " 'finish_reason': 'finished',\n",
      " 'finish_time': datetime.datetime(2017, 7, 30, 12, 30, 4, 444241),\n",
      " 'log_count/DEBUG': 2,\n",
      " 'log_count/ERROR': 1,\n",
      " 'log_count/INFO': 7,\n",
      " 'memusage/max': 50946048,\n",
      " 'memusage/startup': 50946048,\n",
      " 'response_received_count': 1,\n",
      " 'scheduler/dequeued': 1,\n",
      " 'scheduler/dequeued/memory': 1,\n",
      " 'scheduler/enqueued': 1,\n",
      " 'scheduler/enqueued/memory': 1,\n",
      " 'spider_exceptions/AttributeError': 1,\n",
      " 'start_time': datetime.datetime(2017, 7, 30, 12, 30, 4, 86828)}\n",
      "2017-07-30 20:30:04 [scrapy.core.engine] INFO: Spider closed (finished)\n"
     ]
    }
   ],
   "source": [
    "! scrapy runspider Food_ptt.py -o Food_ptt.json"
   ]
  },
  {
   "cell_type": "code",
   "execution_count": null,
   "metadata": {
    "collapsed": true
   },
   "outputs": [],
   "source": []
  }
 ],
 "metadata": {
  "kernelspec": {
   "display_name": "Python 3",
   "language": "python",
   "name": "python3"
  },
  "language_info": {
   "codemirror_mode": {
    "name": "ipython",
    "version": 3
   },
   "file_extension": ".py",
   "mimetype": "text/x-python",
   "name": "python",
   "nbconvert_exporter": "python",
   "pygments_lexer": "ipython3",
   "version": "3.6.1"
  }
 },
 "nbformat": 4,
 "nbformat_minor": 2
}
