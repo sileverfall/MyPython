{
 "cells": [
  {
   "cell_type": "code",
   "execution_count": 8,
   "metadata": {
    "collapsed": true
   },
   "outputs": [],
   "source": [
    "#先設定驅動\n",
    "# Go to  https://chromedriver.storage.googleapis.com/index.html?path=2.30/\n",
    "# Download \n",
    "# Extract, \n",
    "# sudo cp chromedriver /usr/local/bin/"
   ]
  },
  {
   "cell_type": "code",
   "execution_count": 6,
   "metadata": {},
   "outputs": [
    {
     "name": "stdout",
     "output_type": "stream",
     "text": [
      "Collecting selenium\n",
      "  Using cached selenium-3.4.3-py2.py3-none-any.whl\n",
      "Installing collected packages: selenium\n",
      "\u001b[31mException:\n",
      "Traceback (most recent call last):\n",
      "  File \"/usr/local/lib/python3.6/site-packages/pip/basecommand.py\", line 215, in main\n",
      "    status = self.run(options, args)\n",
      "  File \"/usr/local/lib/python3.6/site-packages/pip/commands/install.py\", line 342, in run\n",
      "    prefix=options.prefix_path,\n",
      "  File \"/usr/local/lib/python3.6/site-packages/pip/req/req_set.py\", line 784, in install\n",
      "    **kwargs\n",
      "  File \"/usr/local/lib/python3.6/site-packages/pip/req/req_install.py\", line 851, in install\n",
      "    self.move_wheel_files(self.source_dir, root=root, prefix=prefix)\n",
      "  File \"/usr/local/lib/python3.6/site-packages/pip/req/req_install.py\", line 1064, in move_wheel_files\n",
      "    isolated=self.isolated,\n",
      "  File \"/usr/local/lib/python3.6/site-packages/pip/wheel.py\", line 377, in move_wheel_files\n",
      "    clobber(source, dest, False, fixer=fixer, filter=filter)\n",
      "  File \"/usr/local/lib/python3.6/site-packages/pip/wheel.py\", line 316, in clobber\n",
      "    ensure_dir(destdir)\n",
      "  File \"/usr/local/lib/python3.6/site-packages/pip/utils/__init__.py\", line 83, in ensure_dir\n",
      "    os.makedirs(path)\n",
      "  File \"/usr/local/Cellar/python3/3.6.1/Frameworks/Python.framework/Versions/3.6/lib/python3.6/os.py\", line 210, in makedirs\n",
      "    makedirs(head, mode, exist_ok)\n",
      "  File \"/usr/local/Cellar/python3/3.6.1/Frameworks/Python.framework/Versions/3.6/lib/python3.6/os.py\", line 210, in makedirs\n",
      "    makedirs(head, mode, exist_ok)\n",
      "  File \"/usr/local/Cellar/python3/3.6.1/Frameworks/Python.framework/Versions/3.6/lib/python3.6/os.py\", line 210, in makedirs\n",
      "    makedirs(head, mode, exist_ok)\n",
      "  File \"/usr/local/Cellar/python3/3.6.1/Frameworks/Python.framework/Versions/3.6/lib/python3.6/os.py\", line 220, in makedirs\n",
      "    mkdir(name, mode)\n",
      "PermissionError: [Errno 13] Permission denied: '/usr/local/selenium'\u001b[0m\n"
     ]
    }
   ],
   "source": [
    "!pip3 install selenium"
   ]
  },
  {
   "cell_type": "markdown",
   "metadata": {},
   "source": [
    "# 關鍵字\n",
    "## find_element(s)_by_tag_name\n",
    "## find_element(s)_by_css_selector\n"
   ]
  },
  {
   "cell_type": "code",
   "execution_count": 3,
   "metadata": {
    "collapsed": true
   },
   "outputs": [],
   "source": [
    "import re\n",
    "import time\n",
    "from selenium import webdriver"
   ]
  },
  {
   "cell_type": "code",
   "execution_count": 4,
   "metadata": {
    "collapsed": true
   },
   "outputs": [],
   "source": [
    "# 使用chrome驅動器\n",
    "browser = webdriver.Chrome()"
   ]
  },
  {
   "cell_type": "code",
   "execution_count": 5,
   "metadata": {
    "collapsed": true
   },
   "outputs": [],
   "source": [
    "# 每一個網頁不超過30秒\n",
    "browser.set_page_load_timeout(30)"
   ]
  },
  {
   "cell_type": "code",
   "execution_count": null,
   "metadata": {
    "collapsed": true
   },
   "outputs": [],
   "source": [
    "browser.get('http://hz.17zwd.com/sks.aspx?so=%E5%A4%A7%E8%A1%A3')"
   ]
  },
  {
   "cell_type": "code",
   "execution_count": 7,
   "metadata": {},
   "outputs": [
    {
     "name": "stdout",
     "output_type": "stream",
     "text": [
      "<selenium.webdriver.remote.webelement.WebElement (session=\"f018bf3c6678e26fce6a7751dfe1015b\", element=\"0.3309667021892222-1\")>\n",
      "共100 页\n",
      "商品有100頁\n"
     ]
    }
   ],
   "source": [
    "# 有多少頁商品\n",
    "browser.get('http://hz.17zwd.com/sks.aspx?so=%E5%A4%A7%E8%A1%A3')\n",
    "page_info = browser.find_element_by_css_selector('#pages__pager_2 > div> span:nth-child(8) ')\n",
    "print(page_info)\n",
    "print(page_info.text)\n",
    "\n",
    "#網站有改版\n",
    "pages = int(((page_info.text.split(' ')[0]).split('\\s')[0]).replace(\"共\",\"\"))\n",
    "pages\n",
    "print('商品有%d頁' % pages)"
   ]
  },
  {
   "cell_type": "code",
   "execution_count": 8,
   "metadata": {},
   "outputs": [
    {
     "name": "stdout",
     "output_type": "stream",
     "text": [
      "第1頁\n",
      "第1頁有72件商品\n",
      "第2頁\n",
      "第2頁有67件商品\n",
      "第3頁\n",
      "第3頁有72件商品\n"
     ]
    }
   ],
   "source": [
    "#測試 先抓前三頁\n",
    "for i in range(pages):\n",
    "    if i >2:\n",
    "        break\n",
    "    print('第%d頁' % (i+1))\n",
    "    url ='http://hz.17zwd.com/sks.aspx?so=%E5%A4%A7%E8%A1%A3'+ str(i+1)\n",
    "    browser.get(url)\n",
    "    #windows.scrollTo(x座標,y座標)=>讓他執行滾動\n",
    "    browser.execute_script(\"window.scrollTo(0,document.body.scrollHeight);\")\n",
    "    time.sleep(3)\n",
    "    #網站有改版\n",
    "    goods = browser.find_element_by_css_selector('body > div > div.sks-clear-container.big-box > div.left-container > div.florid-market-goods-container > div > div.florid-design-goods-list').find_element_by_css_selector('div.design-goods-list-item-contianer')\n",
    "    #print(goods)\n",
    "    print('第%d頁有%d件商品' %((i+1),len(goods.text)))"
   ]
  },
  {
   "cell_type": "code",
   "execution_count": 9,
   "metadata": {
    "scrolled": true
   },
   "outputs": [
    {
     "name": "stdout",
     "output_type": "stream",
     "text": [
      "￥75\n"
     ]
    }
   ],
   "source": [
    "all_goods_p = goods.find_elements_by_class_name('design-goods-price')\n",
    "for g in all_goods_p:\n",
    "    print(g.text)"
   ]
  },
  {
   "cell_type": "code",
   "execution_count": 10,
   "metadata": {},
   "outputs": [
    {
     "ename": "TypeError",
     "evalue": "'WebElement' object is not iterable",
     "output_type": "error",
     "traceback": [
      "\u001b[0;31m---------------------------------------------------------------------------\u001b[0m",
      "\u001b[0;31mTypeError\u001b[0m                                 Traceback (most recent call last)",
      "\u001b[0;32m<ipython-input-10-1a1e65594ba7>\u001b[0m in \u001b[0;36m<module>\u001b[0;34m()\u001b[0m\n\u001b[0;32m----> 1\u001b[0;31m \u001b[0;32mfor\u001b[0m \u001b[0mgood\u001b[0m \u001b[0;32min\u001b[0m \u001b[0mgoods\u001b[0m\u001b[0;34m:\u001b[0m\u001b[0;34m\u001b[0m\u001b[0m\n\u001b[0m\u001b[1;32m      2\u001b[0m     \u001b[0mtitle\u001b[0m \u001b[0;34m=\u001b[0m \u001b[0mgood\u001b[0m\u001b[0;34m.\u001b[0m\u001b[0mfind_elements_by_css_selector\u001b[0m\u001b[0;34m(\u001b[0m\u001b[0;34m'div.design-goods-name-container'\u001b[0m\u001b[0;34m)\u001b[0m\u001b[0;34m.\u001b[0m\u001b[0mfind_elements_by_tag_name\u001b[0m\u001b[0;34m(\u001b[0m\u001b[0;34m'a[title]'\u001b[0m\u001b[0;34m)\u001b[0m\u001b[0;34m.\u001b[0m\u001b[0mtext\u001b[0m\u001b[0;34m\u001b[0m\u001b[0m\n\u001b[1;32m      3\u001b[0m     \u001b[0mprint\u001b[0m\u001b[0;34m(\u001b[0m\u001b[0mtitle\u001b[0m\u001b[0;34m)\u001b[0m\u001b[0;34m\u001b[0m\u001b[0m\n\u001b[1;32m      4\u001b[0m     \u001b[0;31m# body > div > div.sks-clear-container.big-box > div.left-container > div.florid-market-goods-container > div > div.florid-design-goods-list > div:nth-child(1) > div.design-goods-name-container\u001b[0m\u001b[0;34m\u001b[0m\u001b[0;34m\u001b[0m\u001b[0m\n\u001b[1;32m      5\u001b[0m     \u001b[0mprice\u001b[0m \u001b[0;34m=\u001b[0m \u001b[0mgood\u001b[0m\u001b[0;34m.\u001b[0m\u001b[0mfind_elements_by_class_name\u001b[0m\u001b[0;34m(\u001b[0m\u001b[0;34m'design-goods-price'\u001b[0m\u001b[0;34m)\u001b[0m\u001b[0;34m.\u001b[0m\u001b[0mtext\u001b[0m\u001b[0;34m\u001b[0m\u001b[0m\n",
      "\u001b[0;31mTypeError\u001b[0m: 'WebElement' object is not iterable"
     ]
    }
   ],
   "source": [
    "for good in goods:\n",
    "    title = good.find_elements_by_css_selector('div.design-goods-name-container').find_elements_by_tag_name('a[title]').text\n",
    "    print(title)\n",
    "    # body > div > div.sks-clear-container.big-box > div.left-container > div.florid-market-goods-container > div > div.florid-design-goods-list > div:nth-child(1) > div.design-goods-name-container\n",
    "    price = good.find_elements_by_class_name('design-goods-price').text\n",
    "    print(price)"
   ]
  },
  {
   "cell_type": "code",
   "execution_count": null,
   "metadata": {
    "collapsed": true
   },
   "outputs": [],
   "source": [
    "#body > div > div.sks-clear-container.big-box > div.left-container > div.florid-market-goods-container > div > div.florid-design-goods-list > div:nth-child(1) > div.design-goods-name-container > a\n",
    "    #body > div > div.sks-clear-container.big-box > div.left-container > div.florid-market-goods-container > div > div.florid-design-goods-list > div:nth-child(2) > div.design-goods-name-container > a\n",
    "    #body > div.web-container > div.sks-clear-container.big-box > div.left-container > div.florid-market-goods-container > div > div.florid-design-goods-list > div:nth-child(3) > div.design-goods-name-container > a\n",
    "    #body > div.web-container > div.sks-clear-container.big-box > div.left-container > div.florid-market-goods-container > div > div.florid-design-goods-list > div:nth-child(4) > div.design-goods-name-container > a\n",
    "    #body > div.web-container > div.sks-clear-container.big-box > div.left-container > div.florid-market-goods-container > div > div.florid-design-goods-list > div:nth-child(5) > div.design-goods-name-container > a"
   ]
  }
 ],
 "metadata": {
  "kernelspec": {
   "display_name": "Python 3",
   "language": "python",
   "name": "python3"
  },
  "language_info": {
   "codemirror_mode": {
    "name": "ipython",
    "version": 3
   },
   "file_extension": ".py",
   "mimetype": "text/x-python",
   "name": "python",
   "nbconvert_exporter": "python",
   "pygments_lexer": "ipython3",
   "version": "3.6.1"
  }
 },
 "nbformat": 4,
 "nbformat_minor": 2
}
