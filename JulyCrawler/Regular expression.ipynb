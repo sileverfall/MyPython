{
 "cells": [
  {
   "cell_type": "markdown",
   "metadata": {},
   "source": [
    "\n",
    "## 基本匹配规则\n",
    "#### [0-9] 任意一個數字，等價\\d\n",
    "#### [a-z] 任意一個小寫字母\n",
    "#### [A-Z]任意一個大寫字母\n",
    "#### [^0-9] 匹配非数字，等價\\D\n",
    "####  \\w 等價[a-z0-9_]，字母数字下劃線\n",
    "####  \\W 等價對\\w取非\n",
    "#### . 任意字符\n",
    "#### [ ] 匹配内部任意字符或子表達式\n",
    "#### [^] 對字符集合取非\n",
    "#### * 匹配前面的字符或者子表達式0次或多次\n",
    "#### + 匹配前一個字符至少1次\n",
    "#### ？ 匹配前一個字符0次或ㄧ次\n",
    "#### ^ 匹配字符串开头\n",
    "#### $ 匹配字符串结束\n",
    "\n"
   ]
  },
  {
   "cell_type": "code",
   "execution_count": 1,
   "metadata": {
    "collapsed": true
   },
   "outputs": [],
   "source": [
    "import re"
   ]
  },
  {
   "cell_type": "code",
   "execution_count": 2,
   "metadata": {},
   "outputs": [
    {
     "name": "stdout",
     "output_type": "stream",
     "text": [
      "010-223456\n"
     ]
    }
   ],
   "source": [
    "# 三位數字-3到8個數字\n",
    "#\\d{3}-\\d{3,8}\n",
    "mr = re.match('\\d{3}-\\d{3,8}','010-223456')\n",
    "print(mr.string)"
   ]
  },
  {
   "cell_type": "code",
   "execution_count": 4,
   "metadata": {},
   "outputs": [
    {
     "name": "stdout",
     "output_type": "stream",
     "text": [
      "('010', '12345')\n",
      "010-12345\n",
      "010\n",
      "12345\n"
     ]
    }
   ],
   "source": [
    "#分組\n",
    "m = re.match(r'(\\d{3})-(\\d{3,8})$','010-12345')\n",
    "print(m.groups())\n",
    "print(m.group(0))\n",
    "print(m.group(1))\n",
    "print(m.group(2))"
   ]
  },
  {
   "cell_type": "code",
   "execution_count": 8,
   "metadata": {},
   "outputs": [
    {
     "name": "stdout",
     "output_type": "stream",
     "text": [
      "('20', '14', '45')\n"
     ]
    }
   ],
   "source": [
    "t = '20:14:45'\n",
    "m=re.match(r'^(0[0-9]|1[0-9]|2[0-3]|[0-9])\\:(0[0-9]|1[0-9]|2[0-3]|3[0-9]|4[0-9]|5[0-9]|[0-9])\\:(0[0-9]|1[0-9]|2[0-3]|3[0-9]|4[0-9]|5[0-9]|[0-9])$',t)\n",
    "print(m.groups())"
   ]
  },
  {
   "cell_type": "code",
   "execution_count": 9,
   "metadata": {},
   "outputs": [
    {
     "name": "stdout",
     "output_type": "stream",
     "text": [
      "['one', 'two', 'three', '']\n"
     ]
    }
   ],
   "source": [
    "# 分割字符串\n",
    "p = re.compile(r'\\d+')\n",
    "print(p.split('one1two22three333'))"
   ]
  },
  {
   "cell_type": "code",
   "execution_count": null,
   "metadata": {
    "collapsed": true
   },
   "outputs": [],
   "source": []
  }
 ],
 "metadata": {
  "kernelspec": {
   "display_name": "Python 3",
   "language": "python",
   "name": "python3"
  },
  "language_info": {
   "codemirror_mode": {
    "name": "ipython",
    "version": 3
   },
   "file_extension": ".py",
   "mimetype": "text/x-python",
   "name": "python",
   "nbconvert_exporter": "python",
   "pygments_lexer": "ipython3",
   "version": "3.6.1"
  }
 },
 "nbformat": 4,
 "nbformat_minor": 2
}
